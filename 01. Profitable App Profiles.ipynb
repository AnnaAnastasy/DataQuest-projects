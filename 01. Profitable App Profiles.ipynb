{
 "cells": [
  {
   "cell_type": "markdown",
   "metadata": {},
   "source": [
    "# Profitable App Profiles for the App Store and Google Play Markets\n",
    "This project aims to find out what types of apps are likely to attract more users on Google Play and App Store and, therefore, are more profitable. The analysis is made just for English apps that are free to dowload and install, so the main source of revenue consists of in-app ads. It means that the revenue for any given app is mostly influenced by the number of users who use the app.\n",
    "\n",
    "In 2019, there were approximately 2 million iOS apps available on the App Store, and 2.1 million Android apps on Google Play. These are two data sets that seem suitable for our purpose:\n",
    "\n",
    "* A data set containing data about approximately ten thousand Android apps from Google Play\n",
    "* A data set containing data about approximately seven thousand iOS apps from the App Store\n",
    "\n",
    "Let's start with opening both data sets and then we'll explore them."
   ]
  },
  {
   "cell_type": "code",
   "execution_count": 1,
   "metadata": {},
   "outputs": [],
   "source": [
    "# App Store data set\n",
    "open_file_1 = open('AppleStore.csv', encoding=\"utf8\")\n",
    "from csv import reader\n",
    "read_file_1 = reader (open_file_1)\n",
    "apple_store = list(read_file_1)"
   ]
  },
  {
   "cell_type": "code",
   "execution_count": 2,
   "metadata": {},
   "outputs": [],
   "source": [
    "# Google Play data set\n",
    "open_file_2 = open('googleplaystore.csv', encoding=\"utf8\")\n",
    "read_file_2 = reader (open_file_2)\n",
    "android = list(read_file_2)"
   ]
  },
  {
   "cell_type": "markdown",
   "metadata": {},
   "source": [
    "## Exploring Data Sets"
   ]
  },
  {
   "cell_type": "code",
   "execution_count": 3,
   "metadata": {},
   "outputs": [],
   "source": [
    "# function for exploring data (to look at few rows choosing `start` and `end` indexes)\n",
    "def explore_data(dataset, start, end, rows_and_columns = False):\n",
    "    dataset_slice = dataset[start:end]    \n",
    "    for row in dataset_slice:\n",
    "        print(row)\n",
    "        print('\\n')\n",
    "\n",
    "    if rows_and_columns:\n",
    "        print('Number of rows:', len(dataset))\n",
    "        print('Number of columns:', len(dataset[0]))"
   ]
  },
  {
   "cell_type": "code",
   "execution_count": 4,
   "metadata": {},
   "outputs": [
    {
     "name": "stdout",
     "output_type": "stream",
     "text": "['', 'id', 'track_name', 'size_bytes', 'currency', 'price', 'rating_count_tot', 'rating_count_ver', 'user_rating', 'user_rating_ver', 'ver', 'cont_rating', 'prime_genre', 'sup_devices.num', 'ipadSc_urls.num', 'lang.num', 'vpp_lic']\n\n\n['1', '281656475', 'PAC-MAN Premium', '100788224', 'USD', '3.99', '21292', '26', '4', '4.5', '6.3.5', '4+', 'Games', '38', '5', '10', '1']\n\n\n['2', '281796108', 'Evernote - stay organized', '158578688', 'USD', '0', '161065', '26', '4', '3.5', '8.2.2', '4+', 'Productivity', '37', '5', '23', '1']\n\n\n['3', '281940292', 'WeatherBug - Local Weather, Radar, Maps, Alerts', '100524032', 'USD', '0', '188583', '2822', '3.5', '4.5', '5.0.0', '4+', 'Weather', '37', '5', '3', '1']\n\n\n['4', '282614216', 'eBay: Best App to Buy, Sell, Save! Online Shopping', '128512000', 'USD', '0', '262241', '649', '4', '4.5', '5.10.0', '12+', 'Shopping', '37', '5', '9', '1']\n\n\nNumber of rows: 7198\nNumber of columns: 17\n"
    }
   ],
   "source": [
    "explore_data (apple_store, 0, 5, True)"
   ]
  },
  {
   "cell_type": "code",
   "execution_count": 5,
   "metadata": {},
   "outputs": [
    {
     "name": "stdout",
     "output_type": "stream",
     "text": "['App', 'Category', 'Rating', 'Reviews', 'Size', 'Installs', 'Type', 'Price', 'Content Rating', 'Genres', 'Last Updated', 'Current Ver', 'Android Ver']\n\n\n['Photo Editor & Candy Camera & Grid & ScrapBook', 'ART_AND_DESIGN', '4.1', '159', '19M', '10,000+', 'Free', '0', 'Everyone', 'Art & Design', 'January 7, 2018', '1.0.0', '4.0.3 and up']\n\n\n['Coloring book moana', 'ART_AND_DESIGN', '3.9', '967', '14M', '500,000+', 'Free', '0', 'Everyone', 'Art & Design;Pretend Play', 'January 15, 2018', '2.0.0', '4.0.3 and up']\n\n\n['U Launcher Lite – FREE Live Cool Themes, Hide Apps', 'ART_AND_DESIGN', '4.7', '87510', '8.7M', '5,000,000+', 'Free', '0', 'Everyone', 'Art & Design', 'August 1, 2018', '1.2.4', '4.0.3 and up']\n\n\n['Sketch - Draw & Paint', 'ART_AND_DESIGN', '4.5', '215644', '25M', '50,000,000+', 'Free', '0', 'Teen', 'Art & Design', 'June 8, 2018', 'Varies with device', '4.2 and up']\n\n\nNumber of rows: 10842\nNumber of columns: 13\n"
    }
   ],
   "source": [
    "explore_data (android, 0, 5, True)"
   ]
  },
  {
   "cell_type": "markdown",
   "metadata": {},
   "source": [
    "#### Apple iOS Store data set has:\n",
    "* A header\n",
    "* Number of rows: 7198\n",
    "* Number of columns: 17\n",
    "\n",
    "#### Google Play Store data set has:\n",
    "* A header\n",
    "* Number of rows: 10842\n",
    "* Number of columns: 13"
   ]
  },
  {
   "cell_type": "markdown",
   "metadata": {},
   "source": [
    "## Columns Examination\n",
    "\n",
    "Detailed explanation of all columns can be found at [iOS](https://www.kaggle.com/ramamet4/app-store-apple-data-set-10k-apps/home) and [Google](https://www.kaggle.com/lava18/google-play-store-apps/home)\n",
    "\n",
    "We already can see some useful columns\n",
    "\n",
    "|iOS column name        | GooglePlay column name    | Description                       |\n",
    "|-----------------------|---------------------------|-----------------------------------|\n",
    "|\"track_name\"           | \"App\"                     | App Name                          |\n",
    "|\"size_bytes\"           | \"Size\"                    | Size (in Bytes)                   |\n",
    "|\"price\"                | \"Price\"                   | Price amount                      |\n",
    "|\"prime_genre\"          | \"Genres\"                  | Genre                             |\n",
    "|\"user_rating_ver\"      | \"Rating\"                  | Average User Rating               |\n",
    "|\"cont_rating\"          | \"Content Rating\"          | Content Rating                    |"
   ]
  },
  {
   "cell_type": "markdown",
   "metadata": {},
   "source": [
    "In total, iOS list has 17 columns and Google Play list - 13:"
   ]
  },
  {
   "cell_type": "code",
   "execution_count": 6,
   "metadata": {},
   "outputs": [
    {
     "name": "stdout",
     "output_type": "stream",
     "text": "iOS Store: ['', 'id', 'track_name', 'size_bytes', 'currency', 'price', 'rating_count_tot', 'rating_count_ver', 'user_rating', 'user_rating_ver', 'ver', 'cont_rating', 'prime_genre', 'sup_devices.num', 'ipadSc_urls.num', 'lang.num', 'vpp_lic']\nTotal: 17 \n\nGoogle Play Store: ['App', 'Category', 'Rating', 'Reviews', 'Size', 'Installs', 'Type', 'Price', 'Content Rating', 'Genres', 'Last Updated', 'Current Ver', 'Android Ver']\nTotal: 13\n"
    }
   ],
   "source": [
    "print(\"iOS Store:\",apple_store[0])\n",
    "print(\"Total:\", len(apple_store[0]), \"\\n\")\n",
    "\n",
    "print(\"Google Play Store:\", android[0])\n",
    "print(\"Total:\", len(android[0]))"
   ]
  },
  {
   "cell_type": "markdown",
   "metadata": {},
   "source": [
    "## Data Cleaning\n",
    "* errors\n",
    "* dublicates\n",
    "* non-english apps\n",
    "* non-free apps\n",
    "\n",
    "### Removing Wrong Data \n",
    "From this [discussion](https://www.kaggle.com/lava18/google-play-store-apps/discussion/66015) we can see that there is an error in the row `[10473]` of the Google Play data set. Let's check this row and remove it, if necessary."
   ]
  },
  {
   "cell_type": "code",
   "execution_count": 7,
   "metadata": {},
   "outputs": [
    {
     "name": "stdout",
     "output_type": "stream",
     "text": "['App', 'Category', 'Rating', 'Reviews', 'Size', 'Installs', 'Type', 'Price', 'Content Rating', 'Genres', 'Last Updated', 'Current Ver', 'Android Ver']\n\n\n['Life Made WI-Fi Touchscreen Photo Frame', '1.9', '19', '3.0M', '1,000+', 'Free', '0', 'Everyone', '', 'February 11, 2018', '1.0.19', '4.0 and up']\n"
    }
   ],
   "source": [
    "print(android[0])\n",
    "print(\"\\n\")\n",
    "print(android[10473])"
   ]
  },
  {
   "cell_type": "markdown",
   "metadata": {},
   "source": [
    "In 3rd column we can see the rating equals to `19`, which should be less or equal to `5.0`. So let's delete this row to avoid confusions."
   ]
  },
  {
   "cell_type": "code",
   "execution_count": 8,
   "metadata": {},
   "outputs": [],
   "source": [
    "del android[10473]              # Do not run more than once!"
   ]
  },
  {
   "cell_type": "code",
   "execution_count": 9,
   "metadata": {},
   "outputs": [
    {
     "name": "stdout",
     "output_type": "stream",
     "text": "['osmino Wi-Fi: free WiFi', 'TOOLS', '4.2', '134203', '4.1M', '10,000,000+', 'Free', '0', 'Everyone', 'Tools', 'August 7, 2018', '6.06.14', '4.4 and up']\n"
    }
   ],
   "source": [
    "# let's check, if it was deleted (we expect the next app 'osmino Wi-Fi: free WiFi' to be in the index 10473\n",
    "# instead of 'Life Made WI-Fi Touchscreen Photo Frame'):\n",
    "print(android[10473])"
   ]
  },
  {
   "cell_type": "markdown",
   "metadata": {},
   "source": [
    "### Deleting Dublicate Data\n",
    "After examination of data, we found a lot of dublicate data in Google Play Apps data set. "
   ]
  },
  {
   "cell_type": "code",
   "execution_count": 10,
   "metadata": {},
   "outputs": [
    {
     "name": "stdout",
     "output_type": "stream",
     "text": "['Facebook', 'SOCIAL', '4.1', '78158306', 'Varies with device', '1,000,000,000+', 'Free', '0', 'Teen', 'Social', 'August 3, 2018', 'Varies with device', 'Varies with device']\n['Instagram', 'SOCIAL', '4.5', '66577313', 'Varies with device', '1,000,000,000+', 'Free', '0', 'Teen', 'Social', 'July 31, 2018', 'Varies with device', 'Varies with device']\n['Instagram', 'SOCIAL', '4.5', '66577446', 'Varies with device', '1,000,000,000+', 'Free', '0', 'Teen', 'Social', 'July 31, 2018', 'Varies with device', 'Varies with device']\n['Instagram', 'SOCIAL', '4.5', '66577313', 'Varies with device', '1,000,000,000+', 'Free', '0', 'Teen', 'Social', 'July 31, 2018', 'Varies with device', 'Varies with device']\n['Instagram', 'SOCIAL', '4.5', '66509917', 'Varies with device', '1,000,000,000+', 'Free', '0', 'Teen', 'Social', 'July 31, 2018', 'Varies with device', 'Varies with device']\n['Facebook', 'SOCIAL', '4.1', '78128208', 'Varies with device', '1,000,000,000+', 'Free', '0', 'Teen', 'Social', 'August 3, 2018', 'Varies with device', 'Varies with device']\n"
    }
   ],
   "source": [
    "# For example, there are 2 entries of Facebook and 4 of Instagram\n",
    "for app in android:\n",
    "    if app[0] == \"Facebook\" or app[0] == \"Instagram\":\n",
    "        print (app)"
   ]
  },
  {
   "cell_type": "code",
   "execution_count": 11,
   "metadata": {},
   "outputs": [
    {
     "name": "stdout",
     "output_type": "stream",
     "text": "Number of dublicates is 1181\nNumber of unique apps is 9659\n"
    }
   ],
   "source": [
    "# Let's create 2 list: for unique entries and dublicates\n",
    "unique = []\n",
    "dublicates = []\n",
    "\n",
    "for app in android:\n",
    "    if app[0] in unique:\n",
    "        dublicates.append(app[0])\n",
    "    else:\n",
    "        unique.append(app[0])\n",
    "        \n",
    "print (\"Number of dublicates is\", len(dublicates))\n",
    "print (\"Number of unique apps is\", (len(unique)-1)) # -1 because 1st row is a header"
   ]
  },
  {
   "cell_type": "markdown",
   "metadata": {},
   "source": [
    "   By looking at the example of Facebook and Instagram dublicates, we could see that the only difference among entries was the 4th column that is a \"number of users' reviews\". It means that the data was collected at different time and higher number means more recent data. In order to keep the most recent information, we will keep entries with the highest numbers of reviews and remove the rest dublicates. \n",
    "\n",
    "   In order to do this, we will:\n",
    "* create a dictionary where keys are unique app names and values are the highest numbers of reviews.\n",
    "* create a new data set using the dictionary mentioned above."
   ]
  },
  {
   "cell_type": "code",
   "execution_count": 12,
   "metadata": {},
   "outputs": [
    {
     "data": {
      "text/plain": "9659"
     },
     "execution_count": 12,
     "metadata": {},
     "output_type": "execute_result"
    }
   ],
   "source": [
    "# creating the dictionary\n",
    "max_reviews = {}\n",
    "\n",
    "for app in android[1:]:\n",
    "    name = app[0]\n",
    "    n_reviews = int(app[3])\n",
    "    \n",
    "    # adding apps and reviews count to our dictionary\n",
    "    if name not in max_reviews:\n",
    "        max_reviews[name] = n_reviews\n",
    "    \n",
    "    # replacing values with the highest numbers of reviews\n",
    "    elif name in max_reviews and n_reviews > max_reviews[name]:\n",
    "        max_reviews[name] = n_reviews\n",
    "\n",
    "# to check if everything is correct, the lenth of dictionary should be 9659 (number of unique apps):\n",
    "len(max_reviews)"
   ]
  },
  {
   "cell_type": "code",
   "execution_count": 13,
   "metadata": {},
   "outputs": [
    {
     "name": "stdout",
     "output_type": "stream",
     "text": "['Photo Editor & Candy Camera & Grid & ScrapBook', 'ART_AND_DESIGN', '4.1', '159', '19M', '10,000+', 'Free', '0', 'Everyone', 'Art & Design', 'January 7, 2018', '1.0.0', '4.0.3 and up']\n\n\n['U Launcher Lite – FREE Live Cool Themes, Hide Apps', 'ART_AND_DESIGN', '4.7', '87510', '8.7M', '5,000,000+', 'Free', '0', 'Everyone', 'Art & Design', 'August 1, 2018', '1.2.4', '4.0.3 and up']\n\n\n['Sketch - Draw & Paint', 'ART_AND_DESIGN', '4.5', '215644', '25M', '50,000,000+', 'Free', '0', 'Teen', 'Art & Design', 'June 8, 2018', 'Varies with device', '4.2 and up']\n\n\n['Pixel Draw - Number Art Coloring Book', 'ART_AND_DESIGN', '4.3', '967', '2.8M', '100,000+', 'Free', '0', 'Everyone', 'Art & Design;Creativity', 'June 20, 2018', '1.1', '4.4 and up']\n\n\n['Paper flowers instructions', 'ART_AND_DESIGN', '4.4', '167', '5.6M', '50,000+', 'Free', '0', 'Everyone', 'Art & Design', 'March 26, 2017', '1.0', '2.3 and up']\n\n\nNumber of rows: 9659\nNumber of columns: 13\n"
    }
   ],
   "source": [
    "android_new = []  \n",
    "added_apps = []   \n",
    "\n",
    "for app in android[1:]:\n",
    "    name = app[0]\n",
    "    n_reviews = int(app[3])\n",
    "    \n",
    "    if n_reviews == max_reviews[name] and name not in added_apps:\n",
    "        android_new.append(app)\n",
    "        added_apps.append(name)\n",
    "\n",
    "# checking new dataset. There should be 9659 columns (without any dublicate and without a header)\n",
    "explore_data(android_new, 0, 5, True)    "
   ]
  },
  {
   "cell_type": "code",
   "execution_count": 14,
   "metadata": {},
   "outputs": [
    {
     "name": "stdout",
     "output_type": "stream",
     "text": "Number of dublicates is 2\n"
    }
   ],
   "source": [
    "# to check for dublicates in iOS data set\n",
    "unique = []\n",
    "dublicates = []\n",
    "\n",
    "for app in apple_store:\n",
    "    if app[2] in unique:\n",
    "        dublicates.append(app[2])\n",
    "    else:\n",
    "        unique.append(app[2])\n",
    "               \n",
    "print (\"Number of dublicates is\", len(dublicates))"
   ]
  },
  {
   "cell_type": "markdown",
   "metadata": {},
   "source": [
    "We found 2 dublicates, but after investigating and reading [this discussion](https://www.kaggle.com/ramamet4/app-store-apple-data-set-10k-apps/discussion/90409) we found out that there are 2 apps called Mannequin Challenge and 2 apps called VR Roller Coaster that are actually 4 different applications with the same names but from different developers. So we will keep them all."
   ]
  },
  {
   "cell_type": "markdown",
   "metadata": {},
   "source": [
    "### Removing Non-English Apps\n",
    "\n",
    "As our investigation is for English-speaking audience, it makes total sense to remove non-English entries from both sets.\n",
    "One way to do this is to remove each app with a name containing a symbol that is not commonly used in English text. According to the ASCII (American Standard Code for Information Interchange) system the numbers corresponding to the characters we commonly use in an English text are all in the range 0 to 127. \n",
    "\n",
    "Below there is a function to check whether a string contains English characters. If a string has more than 3 non-English character, the function returns False, otherwise it returns True. We leave strings with 1-3 non-English characters because some of the apps contain emojis and characters like ™ that fall outside the ASCII range. "
   ]
  },
  {
   "cell_type": "code",
   "execution_count": 15,
   "metadata": {},
   "outputs": [],
   "source": [
    "def English_alphabet(string):\n",
    "    non_eng = 0\n",
    "    for character in string:\n",
    "        if ord(character) > 127:\n",
    "            non_eng += 1\n",
    "            \n",
    "    if non_eng > 3:  \n",
    "        return False\n",
    "    else:\n",
    "        return True"
   ]
  },
  {
   "cell_type": "code",
   "execution_count": 16,
   "metadata": {},
   "outputs": [
    {
     "name": "stdout",
     "output_type": "stream",
     "text": "['Hily: Dating, Chat, Match, Meet & Hook up', 'DATING', '4.1', '2560', '56M', '100,000+', 'Free', '0', 'Mature 17+', 'Dating', 'August 1, 2018', '2.5.2', '4.1 and up']\n\n\n['Find Lover', 'DATING', 'NaN', '21', '4.7M', '1,000+', 'Free', '0', 'Mature 17+', 'Dating', 'July 27, 2018', '1.0.2', '4.0.3 and up']\n\n\n['Free Dating & Flirt Chat - Choice of Love', 'DATING', '4.0', '42197', 'Varies with device', '5,000,000+', 'Free', '0', 'Mature 17+', 'Dating', 'July 24, 2018', 'Varies with device', 'Varies with device']\n\n\n['muzmatch: Muslim & Arab Singles, Marriage & Dating', 'DATING', '3.8', '5168', '25M', '100,000+', 'Free', '0', 'Mature 17+', 'Dating', 'July 24, 2018', '3.8.75a', '4.0.3 and up']\n\n\nNumber of rows: 9614\nNumber of columns: 13\n"
    }
   ],
   "source": [
    "android_eng = []\n",
    "for app in android_new:\n",
    "    if English_alphabet(app[0]) == True:\n",
    "        android_eng.append(app)       \n",
    "        \n",
    "explore_data(android_eng, 506, 510, True)"
   ]
  },
  {
   "cell_type": "code",
   "execution_count": 17,
   "metadata": {},
   "outputs": [
    {
     "name": "stdout",
     "output_type": "stream",
     "text": "['1', '281656475', 'PAC-MAN Premium', '100788224', 'USD', '3.99', '21292', '26', '4', '4.5', '6.3.5', '4+', 'Games', '38', '5', '10', '1']\n\n\n['2', '281796108', 'Evernote - stay organized', '158578688', 'USD', '0', '161065', '26', '4', '3.5', '8.2.2', '4+', 'Productivity', '37', '5', '23', '1']\n\n\n['3', '281940292', 'WeatherBug - Local Weather, Radar, Maps, Alerts', '100524032', 'USD', '0', '188583', '2822', '3.5', '4.5', '5.0.0', '4+', 'Weather', '37', '5', '3', '1']\n\n\nNumber of rows: 6183\nNumber of columns: 17\n"
    }
   ],
   "source": [
    "apple_eng = []\n",
    "for app in apple_store[1:]:         # without a header\n",
    "    if English_alphabet(app[2]):\n",
    "        apple_eng.append(app)\n",
    "        \n",
    "explore_data(apple_eng, 0, 3, True)"
   ]
  },
  {
   "cell_type": "markdown",
   "metadata": {},
   "source": [
    "As we can see, we're left with 9614 Android and 6183 iOS apps."
   ]
  },
  {
   "cell_type": "markdown",
   "metadata": {},
   "source": [
    "### Removing non-free Apps\n",
    "\n",
    "This is our last step in cleaning data. As we are analysing free apps, we should isolate them from non-free apps."
   ]
  },
  {
   "cell_type": "code",
   "execution_count": 18,
   "metadata": {},
   "outputs": [
    {
     "name": "stdout",
     "output_type": "stream",
     "text": "['Photo Editor & Candy Camera & Grid & ScrapBook', 'ART_AND_DESIGN', '4.1', '159', '19M', '10,000+', 'Free', '0', 'Everyone', 'Art & Design', 'January 7, 2018', '1.0.0', '4.0.3 and up']\n\n\n['U Launcher Lite – FREE Live Cool Themes, Hide Apps', 'ART_AND_DESIGN', '4.7', '87510', '8.7M', '5,000,000+', 'Free', '0', 'Everyone', 'Art & Design', 'August 1, 2018', '1.2.4', '4.0.3 and up']\n\n\n['Sketch - Draw & Paint', 'ART_AND_DESIGN', '4.5', '215644', '25M', '50,000,000+', 'Free', '0', 'Teen', 'Art & Design', 'June 8, 2018', 'Varies with device', '4.2 and up']\n\n\nNumber of rows: 8864\nNumber of columns: 13\n"
    }
   ],
   "source": [
    "android_free = []\n",
    "for app in android_eng:\n",
    "    price = app[7]\n",
    "    if price == '0':\n",
    "        android_free.append(app)\n",
    "        \n",
    "explore_data(android_free, 0, 3, True)"
   ]
  },
  {
   "cell_type": "code",
   "execution_count": 19,
   "metadata": {},
   "outputs": [
    {
     "name": "stdout",
     "output_type": "stream",
     "text": "['31', '288113403', 'iTranslate - Language Translator & Dictionary', '287933440', 'USD', '0', '123215', '25', '3.5', '5', '10.5.4', '4+', 'Productivity', '37', '5', '23', '1']\n\n\n['34', '288429040', 'LinkedIn', '273844224', 'USD', '0', '71856', '62', '3.5', '4.5', '9.1.32', '4+', 'Social Networking', '37', '2', '23', '1']\n\n\n['37', '289523017', 'Blackjack by MobilityWare', '105431040', 'USD', '0', '180087', '1101', '3.5', '4.5', '5.5.3', '12+', 'Games', '37', '5', '5', '1']\n\n\nNumber of rows: 3222\nNumber of columns: 17\n"
    }
   ],
   "source": [
    "apple_free = []\n",
    "for app in apple_eng:\n",
    "    price = app[5]\n",
    "    if price == '0':\n",
    "        apple_free.append(app)\n",
    "        \n",
    "explore_data(apple_free, 15, 18, True)"
   ]
  },
  {
   "cell_type": "markdown",
   "metadata": {},
   "source": [
    "We're left with 8864 Android apps and 3222 iOS apps."
   ]
  },
  {
   "cell_type": "markdown",
   "metadata": {},
   "source": [
    "## The Most Common Genres\n",
    "\n",
    "\n",
    "As we've mentioned in the introduction, our aim is to determine the kinds of apps that are likely to attract more users because the revenue is highly influenced by the number of people using the apps.\n",
    "\n",
    "Because our end goal is to add the app on both Google Play and the App Store, we need to find app profiles that are successful on both markets.\n",
    "\n",
    "Let's begin the analysis by getting a sense of the most common genres for each market. For this, we'll build a frequency table for the `prime_genre` column of the App Store data set, and the `Genres` and `Category` columns of the Google Play data set.\n",
    "\n",
    "We'll build two functions that we can use to analyze the frequency tables:\n",
    "\n",
    "* One function to generate frequency tables that show percentages\n",
    "* Another function we can use to display the percentages in a descending order\n",
    "\n",
    "The `freq_table` function you see below:\n",
    "\n",
    "* Takes in two parameters: `dataset` and `index`. `Dataset` is expected to be a list of lists, and `index` is expected to be an integer.\n",
    "* Creates a dictionary `frequency_table`.\n",
    "* Iterates over the dataset counting frequency of all values as percentage.\n",
    "\n",
    "The `display_table()`:\n",
    "\n",
    "* Takes in 2 parameters: `dataset` and `index`. \n",
    "* Generates a frequency table using the `freq_table()` function.\n",
    "* Transforms the frequency table into a list of tuples, then sorts the list in a descending order.\n",
    "* Prints the entries of the frequency table in descending order."
   ]
  },
  {
   "cell_type": "code",
   "execution_count": 20,
   "metadata": {},
   "outputs": [],
   "source": [
    "def freq_table(dataset, index):\n",
    "    frequency_table = {}\n",
    "    total = 0\n",
    "    \n",
    "    for row in dataset:\n",
    "        total += 1\n",
    "        value = row[index]\n",
    "        if value in frequency_table:\n",
    "            frequency_table[value] += 1\n",
    "        else:\n",
    "            frequency_table[value] = 1\n",
    "            \n",
    "    table_percentages = {}\n",
    "    for key in frequency_table:\n",
    "        percentage = (frequency_table[key] / total) * 100\n",
    "        table_percentages[key] = percentage \n",
    "         \n",
    "    return table_percentages"
   ]
  },
  {
   "cell_type": "code",
   "execution_count": 21,
   "metadata": {},
   "outputs": [],
   "source": [
    "def display_table(dataset, index):\n",
    "    table = freq_table(dataset, index)\n",
    "    table_display = []\n",
    "    for key in table:\n",
    "        key_val_as_tuple = (table[key], key)\n",
    "        table_display.append(key_val_as_tuple)\n",
    "\n",
    "    table_sorted = sorted(table_display, reverse = True)\n",
    "    for entry in table_sorted:\n",
    "        if entry[0] > 0.5:                                  \n",
    "            print(entry[1], ':', entry[0])"
   ]
  },
  {
   "cell_type": "code",
   "execution_count": 22,
   "metadata": {},
   "outputs": [
    {
     "name": "stdout",
     "output_type": "stream",
     "text": "Games : 58.16263190564867\nEntertainment : 7.883302296710118\nPhoto & Video : 4.9658597144630665\nEducation : 3.662321539416512\nSocial Networking : 3.2898820608317814\nShopping : 2.60707635009311\nUtilities : 2.5139664804469275\nSports : 2.1415270018621975\nMusic : 2.0484171322160147\nHealth & Fitness : 2.0173805090006205\nProductivity : 1.7380509000620732\nLifestyle : 1.5828677839851024\nNews : 1.3345747982619491\nTravel : 1.2414649286157666\nFinance : 1.1173184357541899\nWeather : 0.8690254500310366\nFood & Drink : 0.8069522036002483\nReference : 0.5586592178770949\nBusiness : 0.5276225946617008\n"
    }
   ],
   "source": [
    "# analysing apps in Apple Store \n",
    "display_table(apple_free, 12)"
   ]
  },
  {
   "cell_type": "markdown",
   "metadata": {},
   "source": [
    "As we can see, 58,16% of free English apps in Apple Store are Games. Entertainment apps are close to 8%, followed by Photo and Video apps, which are close to 5%. Only 3.66% of the apps are designed for Education, followed by Social Networking apps which amount for 3.29% of the apps in our data set. \n",
    "\n",
    "The general impression is that App Store (at least the part containing free English apps) is dominated by apps that are designed for fun (games, entertainment, photo and video, social networking, sports, music, etc.), while apps with practical purposes (education, shopping, utilities, productivity, lifestyle, etc.) are more rare. "
   ]
  },
  {
   "cell_type": "code",
   "execution_count": 23,
   "metadata": {},
   "outputs": [
    {
     "name": "stdout",
     "output_type": "stream",
     "text": "FAMILY : 18.907942238267147\nGAME : 9.724729241877256\nTOOLS : 8.461191335740072\nBUSINESS : 4.591606498194946\nLIFESTYLE : 3.9034296028880866\nPRODUCTIVITY : 3.892148014440433\nFINANCE : 3.7003610108303246\nMEDICAL : 3.531137184115524\nSPORTS : 3.395758122743682\nPERSONALIZATION : 3.3167870036101084\nCOMMUNICATION : 3.2378158844765346\nHEALTH_AND_FITNESS : 3.0798736462093865\nPHOTOGRAPHY : 2.944494584837545\nNEWS_AND_MAGAZINES : 2.7978339350180503\nSOCIAL : 2.6624548736462095\nTRAVEL_AND_LOCAL : 2.33528880866426\nSHOPPING : 2.2450361010830324\nBOOKS_AND_REFERENCE : 2.1435018050541514\nDATING : 1.861462093862816\nVIDEO_PLAYERS : 1.7937725631768955\nMAPS_AND_NAVIGATION : 1.3989169675090252\nFOOD_AND_DRINK : 1.2409747292418771\nEDUCATION : 1.1620036101083033\nENTERTAINMENT : 0.9589350180505415\nLIBRARIES_AND_DEMO : 0.9363718411552346\nAUTO_AND_VEHICLES : 0.9250902527075812\nHOUSE_AND_HOME : 0.8235559566787004\nWEATHER : 0.8009927797833934\nEVENTS : 0.7107400722021661\nPARENTING : 0.6543321299638989\nART_AND_DESIGN : 0.6430505415162455\nCOMICS : 0.6204873646209386\nBEAUTY : 0.5979241877256317\n"
    }
   ],
   "source": [
    "# analysing CATEGORIES of apps in Google Play Store\n",
    "display_table(android_free, 1)"
   ]
  },
  {
   "cell_type": "code",
   "execution_count": 24,
   "metadata": {},
   "outputs": [
    {
     "name": "stdout",
     "output_type": "stream",
     "text": "Tools : 8.449909747292418\nEntertainment : 6.069494584837545\nEducation : 5.347472924187725\nBusiness : 4.591606498194946\nProductivity : 3.892148014440433\nLifestyle : 3.892148014440433\nFinance : 3.7003610108303246\nMedical : 3.531137184115524\nSports : 3.463447653429603\nPersonalization : 3.3167870036101084\nCommunication : 3.2378158844765346\nAction : 3.1024368231046933\nHealth & Fitness : 3.0798736462093865\nPhotography : 2.944494584837545\nNews & Magazines : 2.7978339350180503\nSocial : 2.6624548736462095\nTravel & Local : 2.3240072202166067\nShopping : 2.2450361010830324\nBooks & Reference : 2.1435018050541514\nSimulation : 2.0419675090252705\nDating : 1.861462093862816\nArcade : 1.8501805054151623\nVideo Players & Editors : 1.7712093862815883\nCasual : 1.7599277978339352\nMaps & Navigation : 1.3989169675090252\nFood & Drink : 1.2409747292418771\nPuzzle : 1.128158844765343\nRacing : 0.9927797833935018\nRole Playing : 0.9363718411552346\nLibraries & Demo : 0.9363718411552346\nAuto & Vehicles : 0.9250902527075812\nStrategy : 0.9138086642599278\nHouse & Home : 0.8235559566787004\nWeather : 0.8009927797833934\nEvents : 0.7107400722021661\nAdventure : 0.6768953068592057\nComics : 0.6092057761732852\nBeauty : 0.5979241877256317\nArt & Design : 0.5979241877256317\n"
    }
   ],
   "source": [
    "# GENRES in Google Play Store\n",
    "display_table(android_free, 9)"
   ]
  },
  {
   "cell_type": "markdown",
   "metadata": {},
   "source": [
    "Analysing `Category` column in Google Play, we can see that there are not so many apps designed for fun, and it seems that a good number of apps are designed for practical purposes (family, tools, business, lifestyle, productivity, etc.). However, if we investigate this further, we can see that the family category (which accounts for almost 19% of the apps) means mostly games for kids.\n",
    "\n",
    "Even so, practical apps seem to have a better representation on Google Play compared to App Store. This picture is also confirmed by the frequency table we see for the `Genres` column.\n",
    "\n",
    "What about diiference between these 2 columns, we could notice that `Genres` in Google Play are much more granular (it has more categories). We're only looking for the bigger picture at the moment, so we'll only work with the `Category` column.\n",
    "\n",
    "The general impression is that most of the free English apps are designed for entertainment (games, photo and video, social networking, sports, music) in Apple Store while Google Play shows a more balanced landscape of both practical and fun apps."
   ]
  },
  {
   "cell_type": "markdown",
   "metadata": {},
   "source": [
    "## Most Popular Apps by Genre on the App Store\n",
    "\n",
    "One way to find out what genres are the most popular (have the most users) is to calculate the average number of installs for each app genre. For the Google Play data set, we can find this information in the Installs column, but this information is missing for the App Store data set. As a workaround, we'll take the total number of user ratings as a proxy, which we can find in the rating_count_tot app.\n",
    "\n",
    "Let's start with calculating the average number of user ratings per app genre on the App Store. To do that, we'll need to:\n",
    "\n",
    "* Isolate the apps of each genre.\n",
    "* Sum up the user ratings for the apps of that genre.\n",
    "* Divide the sum by the number of apps belonging to that genre (not by the total number of apps)."
   ]
  },
  {
   "cell_type": "code",
   "execution_count": 25,
   "metadata": {},
   "outputs": [],
   "source": [
    "# Generating a frequency table for the prime_genre column to get the unique app genres\n",
    "prime_genres = freq_table (apple_free, 12)"
   ]
  },
  {
   "cell_type": "code",
   "execution_count": 26,
   "metadata": {},
   "outputs": [
    {
     "name": "stdout",
     "output_type": "stream",
     "text": "Productivity : 21028.410714285714\nWeather : 52279.892857142855\nShopping : 26919.690476190477\nReference : 74942.11111111111\nFinance : 31467.944444444445\nMusic : 57326.530303030304\nUtilities : 18684.456790123455\nTravel : 28243.8\nSocial Networking : 71548.34905660378\nSports : 23008.898550724636\nHealth & Fitness : 23298.015384615384\nGames : 22788.6696905016\nFood & Drink : 33333.92307692308\nNews : 21248.023255813954\nBook : 39758.5\nPhoto & Video : 28441.54375\nEntertainment : 14029.830708661417\nBusiness : 7491.117647058823\nLifestyle : 16485.764705882353\nEducation : 7003.983050847458\nNavigation : 86090.33333333333\nMedical : 612.0\nCatalogs : 4004.0\n"
    }
   ],
   "source": [
    "# Looping over the unique genres of the App Store data set\n",
    "for genre in prime_genres:\n",
    "    total = 0                   # This variable will store the sum of user ratings specific to each genre.\n",
    "    len_genre = 0               # This variable will store the number of apps specific to each genre.\n",
    "    \n",
    "    for app in apple_free:\n",
    "        genre_app = app[12]\n",
    "        if genre_app == genre:\n",
    "            n_ratings = float(app[6])\n",
    "            total += n_ratings\n",
    "            len_genre += 1\n",
    "            \n",
    "    avg_n_ratings = total / len_genre\n",
    "    print(genre, ':', avg_n_ratings)"
   ]
  },
  {
   "cell_type": "markdown",
   "metadata": {},
   "source": [
    "It seems like the most popular categories (with more than 30 000 ratings) are: Navigation, Business, Reference, Social Networking, Weather, Finance, Music, Food & Drinks and Book. Let's investigate a bit more."
   ]
  },
  {
   "cell_type": "code",
   "execution_count": 27,
   "metadata": {},
   "outputs": [
    {
     "name": "stdout",
     "output_type": "stream",
     "text": "Waze - GPS Navigation, Maps & Real-time Traffic : 345046\nGeocaching® : 12811\nImmobilienScout24: Real Estate Search in Germany : 187\nRailway Route Search : 5\nCoPilot GPS – Car Navigation & Offline Maps : 3582\nGoogle Maps - Navigation & Transit : 154911\n"
    }
   ],
   "source": [
    "for app in apple_free:\n",
    "    if app[12] == 'Navigation':\n",
    "        print(app[2], ':', app[6])"
   ]
  },
  {
   "cell_type": "code",
   "execution_count": 28,
   "metadata": {},
   "outputs": [
    {
     "name": "stdout",
     "output_type": "stream",
     "text": "Indeed Job Search : 38681\nAirWatch Agent : 1150\nOPEN Forum : 200\nCisco AnyConnect : 825\nSayHi Translate : 8623\nADP Mobile Solutions : 8324\nFlashlight ◎ : 24744\nAdobe Acrobat Reader: View, Create, & Convert PDFs : 20069\nDingTalk : 40\nPulse Secure : 53\nGreenVPN - Free & fast VPN with unlimited traffic : 464\niPlum Business Phone Number for Calling & Texting : 392\nMon Espace - Pôle emploi : 11\nSideline - 2nd Phone Number : 7907\nScanner App - PDF Document Scan : 11696\nUber Driver : 3289\nVPN Go - Safe Fast & Stable VPN Proxy : 881\n"
    }
   ],
   "source": [
    "for app in apple_free:\n",
    "    if app[12] == 'Business':\n",
    "        print(app[2], ':', app[6])"
   ]
  },
  {
   "cell_type": "code",
   "execution_count": 29,
   "metadata": {},
   "outputs": [
    {
     "name": "stdout",
     "output_type": "stream",
     "text": "Bible : 985920\nDictionary.com Dictionary & Thesaurus : 200047\nDictionary.com Dictionary & Thesaurus for iPad : 54175\nMuslim Pro: Ramadan 2017 Prayer Times, Azan, Quran : 18418\nMerriam-Webster Dictionary : 16849\nGoogle Translate : 26786\nNight Sky : 12122\nWWDC : 762\nJishokun-Japanese English Dictionary & Translator : 0\n教えて!goo : 0\nVPN Express : 14\nNew Furniture Mods - Pocket Wiki & Game Tools for Minecraft PC Edition : 17588\nLUCKY BLOCK MOD ™ for Minecraft PC Edition - The Best Pocket Wiki & Mods Installer Tools : 4693\nGuides for Pokémon GO - Pokemon GO News and Cheats : 826\nHorror Maps for Minecraft PE - Download The Scariest Maps for Minecraft Pocket Edition (MCPE) Free : 718\nCity Maps for Minecraft PE - The Best Maps for Minecraft Pocket Edition (MCPE) : 8535\nGUNS MODS for Minecraft PC Edition - Mods Tools : 1497\nReal Bike Traffic Rider Virtual Reality Glasses : 8\n"
    }
   ],
   "source": [
    "for app in apple_free:\n",
    "    if app[12] == 'Reference':\n",
    "        print(app[2], ':', app[6])"
   ]
  },
  {
   "cell_type": "code",
   "execution_count": 30,
   "metadata": {},
   "outputs": [
    {
     "name": "stdout",
     "output_type": "stream",
     "text": "50 Random Social Networking Apps:\n\nFacebook : 2974676\nLinkedIn : 71856\nSkype for iPhone : 373519\nTumblr : 334293\nMatch™ - #1 Dating App. : 60659\nWhatsApp Messenger : 287589\nTextNow - Unlimited Text + Calls : 164963\nGrindr - Gay and same sex guys chat, meet and date : 23201\nimo video calls and chat : 18841\nAmeba : 269\nWeibo : 7265\nBadoo - Meet New People, Chat, Socialize. : 34428\nKik : 260965\nQzone : 1649\nFake-A-Location Free ™ : 354\nTango - Free Video Call, Voice and Chat : 75412\nMeetMe - Chat and Meet New People : 97072\nSimSimi : 23530\nViber Messenger – Text & Call : 164249\nFind My Family, Friends & iPhone - Life360 Locator : 43877\nWeibo HD : 16772\nPOF - Best Dating App for Conversations : 52642\nGroupMe : 28260\nLobi : 36\nWeChat : 34584\nooVoo – Free Video Call, Text and Voice : 177501\nPinterest : 1061624\n知乎 : 397\nQzone HD : 458\nSkype for iPad : 60163\nLINE : 11437\nQQ : 9109\nLOVOO - Dating Chat : 1985\nQQ HD : 5058\nMessenger : 351466\neHarmony™ Dating App - Meet Singles : 11124\nYouNow: Live Stream Video Chat : 12079\nCougar Dating & Life Style App for Mature Women : 213\nBattlefield™ Companion : 689\nWhisper - Share, Express, Meet : 39819\nWe Heart It - Fashion, wallpapers, quotes, tattoos : 90414\nFollowers - Social Analytics For Instagram : 112778\nInsTrack for Instagram - Analytics Plus More : 85535\nFollowers + for Instagram - Follower Analytics : 28633\nTimehop : 49510\nRepost for Instagram : 15185\nLINE PLAY - Your Avatar World : 34677\nNextdoor : 14402\nHangouts : 36404\nFollowMeter for Instagram - Followers Tracking : 11976\n"
    }
   ],
   "source": [
    "# because there are too many apps in this category, we'll display 50 random apps as an example\n",
    "num = 0\n",
    "print('50 Random Social Networking Apps:\\n')       \n",
    "for app in apple_free:\n",
    "    if (app[12] == 'Social Networking') & (num < 50):\n",
    "        print(app[2], ':', app[6])\n",
    "        num += 1"
   ]
  },
  {
   "cell_type": "code",
   "execution_count": 31,
   "metadata": {},
   "outputs": [
    {
     "name": "stdout",
     "output_type": "stream",
     "text": "WeatherBug - Local Weather, Radar, Maps, Alerts : 188583\nThe Weather Channel: Forecast, Radar & Alerts : 495626\nAccuWeather - Weather for Life : 144214\nMyRadar NOAA Weather Radar Forecast : 150158\nThe Weather Channel App for iPad – best local forecast, radar map, and storm tracking : 208648\nMétéo-France : 24\nYurekuru Call : 53\nQuakeFeed Earthquake Map, Alerts, and News : 6081\nMoji Weather - Free Weather Forecast : 2333\nFEMA : 128\nWeather Underground: Custom Forecast & Local Radar : 49192\nJaxReady : 22\nHurricane Tracker WESH 2 Orlando, Central Florida : 203\nHurricane by American Red Cross : 1158\nWeather & Radar : 37\nWRAL Weather Alert : 25\nYahoo Weather : 112603\nWeather Live Free - Weather Forecast & Alerts : 35702\nNOAA Weather Radar - Weather Forecast & HD Radar : 45696\niWeather - World weather forecast : 80\nAlmanac Long-Range Weather Forecast : 12\nTodayAir : 0\nWeather - Radar - Storm with Morecast App : 78\nStorm Radar : 22792\nWarnWetter : 0\nwetter.com : 0\nForecast Bar : 375\nFreddy the Frogcaster's Weather Station : 14\n"
    }
   ],
   "source": [
    "for app in apple_free:\n",
    "    if app[12] == 'Weather':\n",
    "        print(app[2], ':', app[6])"
   ]
  },
  {
   "cell_type": "code",
   "execution_count": 32,
   "metadata": {},
   "outputs": [
    {
     "name": "stdout",
     "output_type": "stream",
     "text": "50 Random Music Apps:\n\nPandora - Music & Radio : 1126879\nShazam - Discover music, artists, videos & lyrics : 402925\niHeartRadio – Free Music & Radio Stations : 293228\nDeezer - Listen to your Favorite Music & Playlists : 4677\nSonos Controller : 48905\nNRJ Radio : 38\nradio.de - Der Radioplayer : 64\nSpotify Music : 878563\nSoundCloud - Music & Audio : 135744\nSing Karaoke Songs Unlimited with StarMaker : 26227\nSoundHound Song Search & Music Player : 82602\nRingtones for iPhone & Ringtone Maker : 25403\nCoach Guitar - Lessons & Easy Tabs For Beginners : 2416\nTuneIn Radio - MLB NBA Audiobooks Podcasts Music : 110420\nMagic Piano by Smule : 131695\nQQ音乐HD : 224\nThe Singing Machine Mobile Karaoke App : 130\nBandsintown Concerts : 30845\nPetitLyrics : 0\nedjing Mix:DJ turntable to remix and scratch music : 13580\nSmule Sing! : 119316\nAmazon Music : 106235\nAutoRap by Smule : 18202\nMy Mixtapez Music : 26286\nCertified Mixtapes - Hip Hop Albums & Mixtapes : 9975\nKaraoke - Sing Karaoke, Unlimited Songs! : 28606\nNapster - Top Music & Radio : 14268\nMusi - Unlimited Music For YouTube : 25193\nUE BOOM : 612\nSpinrilla - Mixtapes For Free : 15053\nGoogle Play Music : 10118\nPiano - Play Keyboard Music Games with Magic Tiles : 1636\nBose SoundTouch : 3687\nDatPiff : 2815\nSounds app - Music And Friends : 5126\nSmart Music: Streaming Videos and Radio : 17\nFree Piano app by Yokee : 13016\nSimple Radio - Live AM & FM Radio Stations : 4787\nTrebel Music - Unlimited Music Downloader : 2570\nTIDAL : 7398\nAcapella from PicPlayPost : 2487\nMedly - Music Maker : 933\nAmazon Alexa : 3018\nMusic Freedom - Unlimited Free MP3 Music Streaming : 1246\nPlayGround • Music At Your Fingertips : 150\nMusical Video Maker - Create Music clips lip sync : 320\nFree Music Play - Mp3 Streamer & Player : 2496\nLiveMixtapes : 555\nAmpMe - A Portable Social Party Music Speaker : 1047\nNOISE : 355\n"
    }
   ],
   "source": [
    "num = 0\n",
    "print('50 Random Music Apps:\\n')                 #display 50 random apps as an example\n",
    "for app in apple_free:\n",
    "    if (app[12] == 'Music') & (num < 50):\n",
    "        print(app[2], ':', app[6])\n",
    "        num += 1"
   ]
  },
  {
   "cell_type": "code",
   "execution_count": 33,
   "metadata": {},
   "outputs": [
    {
     "name": "stdout",
     "output_type": "stream",
     "text": "Kindle – Read eBooks, Magazines & Textbooks : 252076\nOverDrive – Library eBooks and Audiobooks : 65450\nAudible – audio books, original series & podcasts : 105274\nBookShout: Read eBooks & Track Your Reading Goals : 879\nikouhoushi : 0\nDr. Seuss Treasury — 50 best kids books : 451\nWeirdwood Manor : 197\nGreen Riding Hood : 392\nHOOKED - Chat Stories : 47829\nColor Therapy Adult Coloring Book for Adults : 84062\nMangaTiara - love comic reader : 0\nMangaZERO - comic reader : 9\n謎解き2016 : 0\n謎解き : 0\n"
    }
   ],
   "source": [
    "for app in apple_free:\n",
    "    if app[12] == 'Book':\n",
    "        print(app[2], ':', app[6])"
   ]
  },
  {
   "cell_type": "code",
   "execution_count": 34,
   "metadata": {},
   "outputs": [
    {
     "name": "stdout",
     "output_type": "stream",
     "text": "50 Random Game Apps:\n\nHangman. : 42316\nBlackjack by MobilityWare : 180087\nPAC-MAN : 508808\nBeer Pong Game : 187315\nNYTimes Crossword - Daily Word Puzzle Game : 53465\nSky Burger - Build & Match Food Free : 114096\nPixel Starships™ : 8Bit MMORPG : 5565\nAngry Birds : 824451\nGlow Hockey 2 FREE : 186653\nSolitaire : 679055\nAngry Birds HD : 89110\n▻Sudoku : 359832\nVirtual Regatta Offshore : 209\nJenga : 32527\nSpider Solitaire Free by MobilityWare : 128739\nAngry Birds Seasons HD : 75714\nFruit Ninja® : 327025\nTemple Run : 1724546\nAngry Birds Rio : 170843\nAngry Birds Rio HD : 70122\nMy Horse : 293857\nTiny Tower - Free City Building : 414803\nROBLOX : 183621\nNyan Cat: Lost In Space : 76392\nFishing Kings Free+ : 35058\nWerewolf \"Nightmare in Prison\" : 78\nMagic Jigsaw Puzzles : 187666\nDragonVale : 503230\nRacing Penguin Free - Top Flying and Diving Game : 141224\nPhoenix HD : 13106\nSonic CD : 16358\nWhite Tiles 2 : Piano Master ( Don't Hit The White Tiles 4 ) - Free Music Game : 60\nDoodle Jump FREE - BE WARNED: Insanely addictive : 28153\nJetpack Joyride : 405647\nTop Eleven 2017 - Be a Soccer Manager : 14104\nKids Doodle - Movie Kids Color & Draw : 8025\nZen Pinball : 6534\nThe Sims™ FreePlay : 446880\nCSR Racing : 677247\nBejeweled Blitz : 221002\nHaunted Halloween Escape : 11945\n⋆Solitaire : 106398\nBejeweled Classic : 183259\nTETRIS® FREE : 3383\nDoubleDown Casino & Slots  – Vegas Slot Machines! : 101599\nLep's World Free - platformer games : 38075\nHead Soccer : 481564\nFresh Tracks Snowboarding : 10107\nLEGO® Juniors Create & Cruise : 6152\nBIG WIN Basketball : 12669\n"
    }
   ],
   "source": [
    "num = 0\n",
    "print('50 Random Game Apps:\\n')           \n",
    "for app in apple_free:\n",
    "    if (app[12] == 'Games') & (num < 50):\n",
    "        print(app[2], ':', app[6])\n",
    "        num += 1"
   ]
  },
  {
   "cell_type": "markdown",
   "metadata": {},
   "source": [
    "As we can see, in Navigation category the result was influenced mostly by Waze and Google Maps. The same is in Business and Reference categories: there are few succesful apps which influence the average numbers. These categories might seem more popular than they are. The situation is a bit better in Music category but there is still strong influence by Spotify, Pandora, Shazam, iHeartRadio who are hard to compete against.\n",
    "\n",
    "The Gaming category is represented by numerous apps, that shows popularity but, at the same time, tough competition in this area. So let's choose something different.\n",
    "\n",
    "A category of Social Networking is heavily influenced by Facebook, Skype and other giants. And another issue is that many other apps are still turning around that popular giants (for example, Followers - Social Analytics For Instagram, InsTrack for Instagram - Analytics Plus More, FollowMeter for Instagram).\n",
    "\n",
    "There are also types of apps that are connected with different challenges and issues:\n",
    "* Weather apps — people generally don't spend too much time in-app, and the chances of making profit from in-app adds are low. Also, getting reliable live weather data may require us to connect our apps to non-free APIs.\n",
    "\n",
    "* Food and drink — examples here include Starbucks, Dunkin' Donuts, McDonald's, etc. So making a popular food and drink app requires actual cooking and a delivery service, while we just want to create an app.\n",
    "\n",
    "* Finance apps — these apps involve banking, paying bills, money transfer, etc. Building a finance app requires domain knowledge, and we don't want to hire a finance expert just to build an app.\n",
    "\n",
    "But Photo and Video category seems interesting: it has different popular apps, not just popular giants but also medium sector. Competion is not so saturated as in games category. We don't need any phical product or service for the app as in food or finance app. We can see apps in this category below:"
   ]
  },
  {
   "cell_type": "code",
   "execution_count": 35,
   "metadata": {},
   "outputs": [
    {
     "name": "stdout",
     "output_type": "stream",
     "text": "50 Random Photo & Video Apps:\n\niSwap Faces LITE : 39722\nShutterfly: Prints, Photo Books, Cards Made Easy : 51427\nEpson iPrint : 2838\nPhoto Transfer App - Easy backup of photos+videos : 15654\nInstagram : 2161558\nSplice - Video Editor + Movie Maker by GoPro : 28189\nMeitu : 6478\nDigital Domain : 102\nSnapseed : 8683\nKwai - Share your video moments : 668\nPhoto Lab: Picture Editor, effects & fun face app : 34585\nCamera360 - Selfie Filter Camera, Photo Editor : 16729\nSnapchat : 323905\nPic Collage - Picture Editor & Photo Collage Maker : 123433\nFotoRus -Camera & Photo Editor & Pic Collage Maker : 32558\nMeitu HD : 2150\nPerfect Image - Pic Collage Maker, Add Text to Photo, Cool Picture Editor : 1646\nVisage makeup editor plus photo teeth whitener : 5767\nNightShooting : 9\nPic Jointer – Photo Collage, Camera Effects Editor : 51330\nFlipagram : 79905\nBazaart Photo Editor Pro and Picture Collage Maker : 4909\nLINE Camera - Photo editor, Animated Stamp, Filter : 3978\nYou Doodle - draw on photos & pictures, add text : 8520\nSuperPhoto - Photo Effects & Filters : 1952\nFreePrints – Photos Delivered : 26060\nPIP Camera-Selfie Cam&Pic Collage&Photo Editor : 8454\nPopCam　Photo : 160\nPixlr - Photo Collages, Effects, Overlays, Filters : 2099\nPhoto Editor by Aviary : 39501\nPhoto Collage Maker & Photo Editor - Live Collage : 93781\nKODAK Kiosk Connect App : 3711\nInstaBoard  for Instagram - photos & videos repost : 1571\nOver— Edit Photos, Add Text & Captions to Pictures : 16221\nPhoto Grid - photo collage maker & photo editor : 40531\nYouTube - Watch Videos, Music, and Live Streams : 278166\nPhoto Editor- : 9095\nCymera - Photo & Beauty Editor & Collage : 523\nCapture - Control Your GoPro Camera - Share Video : 6542\nPrinticular Print Photos - 1 Hour Pickup : 3909\nInstaSize: Photo Editor, Picture Effects & Collage : 15605\nRetrica - Selfie Camera with Filter, Sticker & GIF : 11021\nPicsArt Photo Studio: Collage Maker & Pic Editor : 29078\nVSCO : 11174\nBeautyCam - AR Carnie selfie : 2082\nVine Camera : 90355\nInstaBeauty -Camera&Photo Editor&Pic Collage Maker : 4818\nMOLDIV - Photo Editor, Collage & Beauty Camera : 39501\nInstaMag - Free Pic and Photo Collage Maker : 16221\nPrime Photos from Amazon : 10511\n"
    }
   ],
   "source": [
    "num = 0\n",
    "print('50 Random Photo & Video Apps:\\n')      \n",
    "for app in apple_free:\n",
    "    if (app[12] == 'Photo & Video') & (num < 50):\n",
    "        print(app[2], ':', app[6])\n",
    "        num += 1"
   ]
  },
  {
   "cell_type": "markdown",
   "metadata": {},
   "source": [
    "## Most Popular Apps by Genre on Google Play\n",
    "\n",
    "We have data about the number of installs for the Google Play market, so we should be able to get a clearer picture about genre popularity. \n",
    "\n",
    "However, the install numbers don't seem precise enough — we can see that most values are open-ended (100+, 1,000+, 5,000+, etc.):"
   ]
  },
  {
   "cell_type": "code",
   "execution_count": 36,
   "metadata": {},
   "outputs": [
    {
     "name": "stdout",
     "output_type": "stream",
     "text": "1,000,000+ : 15.726534296028879\n100,000+ : 11.552346570397113\n10,000,000+ : 10.548285198555957\n10,000+ : 10.198555956678701\n1,000+ : 8.393501805054152\n100+ : 6.915613718411552\n5,000,000+ : 6.825361010830325\n500,000+ : 5.561823104693141\n50,000+ : 4.7721119133574\n5,000+ : 4.512635379061372\n10+ : 3.5424187725631766\n500+ : 3.2490974729241873\n50,000,000+ : 2.3014440433213\n100,000,000+ : 2.1322202166064983\n50+ : 1.917870036101083\n5+ : 0.78971119133574\n1+ : 0.5076714801444043\n"
    }
   ],
   "source": [
    "display_table(android_free, 5)"
   ]
  },
  {
   "cell_type": "markdown",
   "metadata": {},
   "source": [
    "We don't need very precise data for our purposes — we only want to find out which app genres attract the most users, and we don't need perfect precision with respect to the number of users.\n",
    "\n",
    "We're going to leave the numbers as they are. To perform computations, however, we'll need to convert each install number from string to float. This means we need to remove the commas and the plus characters, otherwise the conversion will fail and raise an error."
   ]
  },
  {
   "cell_type": "code",
   "execution_count": 37,
   "metadata": {},
   "outputs": [
    {
     "name": "stdout",
     "output_type": "stream",
     "text": "ART_AND_DESIGN : 1986335.0877192982\nAUTO_AND_VEHICLES : 647317.8170731707\nBEAUTY : 513151.88679245283\nBOOKS_AND_REFERENCE : 8767811.894736841\nBUSINESS : 1712290.1474201474\nCOMICS : 817657.2727272727\nCOMMUNICATION : 38456119.167247385\nDATING : 854028.8303030303\nEDUCATION : 1833495.145631068\nENTERTAINMENT : 11640705.88235294\nEVENTS : 253542.22222222222\nFINANCE : 1387692.475609756\nFOOD_AND_DRINK : 1924897.7363636363\nHEALTH_AND_FITNESS : 4188821.9853479853\nHOUSE_AND_HOME : 1331540.5616438356\nLIBRARIES_AND_DEMO : 638503.734939759\nLIFESTYLE : 1437816.2687861272\nGAME : 15588015.603248259\nFAMILY : 3695641.8198090694\nMEDICAL : 120550.61980830671\nSOCIAL : 23253652.127118643\nSHOPPING : 7036877.311557789\nPHOTOGRAPHY : 17840110.40229885\nSPORTS : 3638640.1428571427\nTRAVEL_AND_LOCAL : 13984077.710144928\nTOOLS : 10801391.298666667\nPERSONALIZATION : 5201482.6122448975\nPRODUCTIVITY : 16787331.344927534\nPARENTING : 542603.6206896552\nWEATHER : 5074486.197183099\nVIDEO_PLAYERS : 24727872.452830188\nNEWS_AND_MAGAZINES : 9549178.467741935\nMAPS_AND_NAVIGATION : 4056941.7741935486\n"
    }
   ],
   "source": [
    "android_categories = freq_table (android_free, 1)\n",
    "\n",
    "for category in android_categories:\n",
    "    total = 0\n",
    "    len_category = 0\n",
    "    \n",
    "    for app in android_free:\n",
    "        category_app = app[1]\n",
    "        \n",
    "        if category_app == category:\n",
    "            n_installs = app[5]\n",
    "            n_installs = n_installs.replace(',', '')\n",
    "            n_installs = n_installs.replace('+', '')\n",
    "            total += float(n_installs)\n",
    "            len_category += 1\n",
    "            \n",
    "    avg_n_installs = total / len_category\n",
    "    print(category, ':', avg_n_installs)"
   ]
  },
  {
   "cell_type": "markdown",
   "metadata": {},
   "source": [
    "According to number of installations, top categories are: \n",
    "* communication (more than 38.4 millions of apps installations)\n",
    "* video_players (> 24.7 millions)\n",
    "* social (> 23.2 millions)\n",
    "* photography (> 17.8 millions) \n",
    "* productivity (> 16.7 millions)\n",
    "* game (> 15.5 millions) \n",
    "* travel_and_local (> 13.9 millions) \n",
    "* entertainment (> 11.6 millions)\n",
    "\n",
    "Let's examine in details."
   ]
  },
  {
   "cell_type": "code",
   "execution_count": 38,
   "metadata": {},
   "outputs": [
    {
     "name": "stdout",
     "output_type": "stream",
     "text": "WhatsApp Messenger : 1,000,000,000+\nimo beta free calls and text : 100,000,000+\nAndroid Messages : 100,000,000+\nGoogle Duo - High Quality Video Calls : 500,000,000+\nMessenger – Text and Video Chat for Free : 1,000,000,000+\nimo free video calls and chat : 500,000,000+\nSkype - free IM & video calls : 1,000,000,000+\nWho : 100,000,000+\nGO SMS Pro - Messenger, Free Themes, Emoji : 100,000,000+\nLINE: Free Calls & Messages : 500,000,000+\nGoogle Chrome: Fast & Secure : 1,000,000,000+\nFirefox Browser fast & private : 100,000,000+\nUC Browser - Fast Download Private & Secure : 500,000,000+\nGmail : 1,000,000,000+\nHangouts : 1,000,000,000+\nMessenger Lite: Free Calls & Messages : 100,000,000+\nKik : 100,000,000+\nKakaoTalk: Free Calls & Text : 100,000,000+\nOpera Mini - fast web browser : 100,000,000+\nOpera Browser: Fast and Secure : 100,000,000+\nTelegram : 100,000,000+\nTruecaller: Caller ID, SMS spam blocking & Dialer : 100,000,000+\nUC Browser Mini -Tiny Fast Private & Secure : 100,000,000+\nViber Messenger : 500,000,000+\nWeChat : 100,000,000+\nYahoo Mail – Stay Organized : 100,000,000+\nBBM - Free Calls & Messages : 100,000,000+\n"
    }
   ],
   "source": [
    "# the most popular communication apps\n",
    "for app in android_free:\n",
    "    if app[1] == 'COMMUNICATION' and (app[5] == '1,000,000,000+'\n",
    "                                      or app[5] == '500,000,000+'\n",
    "                                      or app[5] == '100,000,000+'):\n",
    "        print(app[0], ':', app[5])"
   ]
  },
  {
   "cell_type": "markdown",
   "metadata": {},
   "source": [
    "On average, Communication apps have the most installs: 38,456,119. But this number is heavily skewed up by a few apps that have over one billion installs (WhatsApp, Facebook Messenger, Skype, Google Chrome, Gmail, and Hangouts), and a few others with over 500 million installs. "
   ]
  },
  {
   "cell_type": "code",
   "execution_count": 39,
   "metadata": {},
   "outputs": [
    {
     "name": "stdout",
     "output_type": "stream",
     "text": "YouTube : 1,000,000,000+\nMotorola Gallery : 100,000,000+\nVLC for Android : 100,000,000+\nGoogle Play Movies & TV : 1,000,000,000+\nMX Player : 500,000,000+\nDubsmash : 100,000,000+\nVivaVideo - Video Editor & Photo Movie : 100,000,000+\nVideoShow-Video Editor, Video Maker, Beauty Camera : 100,000,000+\nMotorola FM Radio : 100,000,000+\n"
    }
   ],
   "source": [
    "for app in android_free:\n",
    "    if app[1] == 'VIDEO_PLAYERS' and (app[5] == '1,000,000,000+'\n",
    "                                      or app[5] == '500,000,000+'\n",
    "                                      or app[5] == '100,000,000+'):\n",
    "        print(app[0], ':', app[5])"
   ]
  },
  {
   "cell_type": "markdown",
   "metadata": {},
   "source": [
    "Social category seems popular but it is mostly dominated by Facebook, Instagram, Tumblr and similar."
   ]
  },
  {
   "cell_type": "code",
   "execution_count": 40,
   "metadata": {},
   "outputs": [
    {
     "name": "stdout",
     "output_type": "stream",
     "text": "Facebook : 1,000,000,000+\nFacebook Lite : 500,000,000+\nTumblr : 100,000,000+\nPinterest : 100,000,000+\nGoogle+ : 1,000,000,000+\nBadoo - Free Chat & Dating App : 100,000,000+\nTango - Live Video Broadcast : 100,000,000+\nInstagram : 1,000,000,000+\nSnapchat : 500,000,000+\nLinkedIn : 100,000,000+\nTik Tok - including musical.ly : 100,000,000+\nBIGO LIVE - Live Stream : 100,000,000+\nVK : 100,000,000+\n"
    }
   ],
   "source": [
    "for app in android_free:\n",
    "    if app[1] == 'SOCIAL' and (app[5] == '1,000,000,000+'\n",
    "                                      or app[5] == '500,000,000+'\n",
    "                                      or app[5] == '100,000,000+'):\n",
    "        print(app[0], ':', app[5])"
   ]
  },
  {
   "cell_type": "code",
   "execution_count": 41,
   "metadata": {},
   "outputs": [
    {
     "name": "stdout",
     "output_type": "stream",
     "text": "50 Random Social Networking Apps:\n\nFacebook : 1,000,000,000+\nFacebook Lite : 500,000,000+\nTumblr : 100,000,000+\nSocial network all in one 2018 : 100,000+\nPinterest : 100,000,000+\nTextNow - free text + calls : 10,000,000+\nGoogle+ : 1,000,000,000+\nThe Messenger App : 1,000,000+\nMessenger Pro : 1,000,000+\nFree Messages, Video, Chat,Text for Messenger Plus : 1,000,000+\nTelegram X : 5,000,000+\nThe Video Messenger App : 100,000+\nJodel - The Hyperlocal App : 1,000,000+\nHide Something - Photo, Video : 5,000,000+\nLove Sticker : 1,000,000+\nWeb Browser & Fast Explorer : 5,000,000+\nLiveMe - Video chat, new friends, and make money : 10,000,000+\nVidStatus app - Status Videos & Status Downloader : 5,000,000+\nLove Images : 1,000,000+\nWeb Browser ( Fast & Secure Web Explorer) : 500,000+\nSPARK - Live random video chat & meet new people : 5,000,000+\nGolden telegram : 50,000+\nFacebook Local : 1,000,000+\nMeet – Talk to Strangers Using Random Video Chat : 5,000,000+\nMobilePatrol Public Safety App : 1,000,000+\n💘 WhatsLov: Smileys of love, stickers and GIF : 1,000,000+\nHTC Social Plugin - Facebook : 10,000,000+\nQuora : 10,000,000+\nKate Mobile for VK : 10,000,000+\nFamily GPS tracker KidControl + GPS by SMS Locator : 1,000,000+\nMoment : 1,000,000+\nText Me: Text Free, Call Free, Second Phone Number : 10,000,000+\nText Free: WiFi Calling App : 5,000,000+\nBadoo - Free Chat & Dating App : 100,000,000+\nText free - Free Text + Call : 10,000,000+\nTango - Live Video Broadcast : 100,000,000+\nooVoo Video Calls, Messaging & Stories : 50,000,000+\nWhisper : 5,000,000+\nBlogger : 5,000,000+\nBloglovin' : 500,000+\nBlogaway for Android (Blogger) : 100,000+\nInstagram : 1,000,000,000+\nTwitCasting Live : 1,000,000+\nStream - Live Video Community : 500,000+\nYouNow: Live Stream Video Chat : 10,000,000+\nMirrativ: Live Stream Any App : 500,000+\nSnapchat : 500,000,000+\nBanjo : 1,000,000+\nWe Heart It : 10,000,000+\nMeetMe: Chat & Meet New People : 50,000,000+\n"
    }
   ],
   "source": [
    "num = 0\n",
    "print('50 Random Social Networking Apps:\\n')                #display 50 random apps as an example\n",
    "for app in android_free:\n",
    "    if (app[1] == 'SOCIAL') & (num < 50):\n",
    "        print(app[0], ':', app[5])\n",
    "        num += 1"
   ]
  },
  {
   "cell_type": "markdown",
   "metadata": {},
   "source": [
    "In Google Play dataset we don't have categry Photo and Video, as in App Store, but we have 2 categories apart: Video Player (that we've checked few cell before) and Photography:"
   ]
  },
  {
   "cell_type": "code",
   "execution_count": 42,
   "metadata": {},
   "outputs": [
    {
     "name": "stdout",
     "output_type": "stream",
     "text": "50 Random Photography Apps:\n\nTouchNote: Cards & Gifts : 1,000,000+\nFreePrints – Free Photos Delivered : 1,000,000+\nGroovebook Photo Books & Gifts : 500,000+\nMoony Lab - Print Photos, Books & Magnets ™ : 50,000+\nLALALAB prints your photos, photobooks and magnets : 1,000,000+\nSnapfish : 1,000,000+\nMotorola Camera : 50,000,000+\nHD Camera - Best Cam with filters & panorama : 5,000,000+\nLightX Photo Editor & Photo Effects : 10,000,000+\nSweet Snap - live filter, Selfie photo edit : 10,000,000+\nHD Camera - Quick Snap Photo & Video : 1,000,000+\nB612 - Beauty & Filter Camera : 100,000,000+\nWaterfall Photo Frames : 1,000,000+\nPhoto frame : 100,000+\nHuji Cam : 5,000,000+\nUnicorn Photo : 1,000,000+\nHD Camera : 5,000,000+\nMakeup Editor -Beauty Photo Editor & Selfie Camera : 1,000,000+\nMakeup Photo Editor: Makeup Camera & Makeup Editor : 1,000,000+\nMoto Photo Editor : 5,000,000+\nInstaBeauty -Makeup Selfie Cam : 50,000,000+\nGarden Photo Frames - Garden Photo Editor : 500,000+\nPhoto Frame : 10,000,000+\nSelfie Camera - Photo Editor & Filter & Sticker : 50,000,000+\nSweet Snap Lite - live filter, Selfie photo editor : 500,000+\nSelfie Camera: Beauty Camera, Photo Editor,Collage : 1,000,000+\nNight Photo Frame : 1,000,000+\nYouCam Makeup - Magic Selfie Makeovers : 100,000,000+\nSelfie Photo Editor : 1,000,000+\nASUS Gallery : 50,000,000+\nKids Photo Frames : 1,000,000+\nPencil Photo Sketch-Sketching Drawing Photo Editor : 1,000,000+\nPretty Makeup, Beauty Photo Editor & Snappy Camera : 5,000,000+\nPhoto Collage - Layout Editor : 10,000,000+\nDSLR Camera Hd Ultra Professional : 1,000,000+\nSnap Cat Face Camera : 1,000,000+\nSilent Camera [High Quality] : 5,000,000+\nSweet Camera - Selfie Filters, Beauty Camera : 10,000,000+\nPhoto Frames : 10,000,000+\nSweet Selfie - selfie camera, beauty cam, photo edit : 100,000,000+\nCandy selfie - photo editor, live filter camera : 10,000,000+\nOpen Camera : 10,000,000+\nBeauty Makeup – Photo Makeover : 1,000,000+\nBlur Image Background Editor (Blur Photo Editor) : 5,000,000+\nMuzy - Share photos & collages : 5,000,000+\nQuickPic - Photo Gallery with Google Drive Support : 10,000,000+\nFlickr : 10,000,000+\nCamera for Android : 10,000,000+\nPhoto Mixer : 10,000,000+\nWondershare PowerCam : 10,000,000+\n"
    }
   ],
   "source": [
    "num = 0\n",
    "print('50 Random Photography Apps:\\n')        \n",
    "for app in android_free:\n",
    "    if (app[1] == 'PHOTOGRAPHY') & (num < 50):\n",
    "        print(app[0], ':', app[5])\n",
    "        num += 1"
   ]
  },
  {
   "cell_type": "code",
   "execution_count": 43,
   "metadata": {},
   "outputs": [
    {
     "name": "stdout",
     "output_type": "stream",
     "text": "B612 - Beauty & Filter Camera : 100,000,000+\nYouCam Makeup - Magic Selfie Makeovers : 100,000,000+\nSweet Selfie - selfie camera, beauty cam, photo edit : 100,000,000+\nGoogle Photos : 1,000,000,000+\nRetrica : 100,000,000+\nPhoto Editor Pro : 100,000,000+\nBeautyPlus - Easy Photo Editor & Selfie Camera : 100,000,000+\nPicsArt Photo Studio: Collage Maker & Pic Editor : 100,000,000+\nPhoto Collage Editor : 100,000,000+\nZ Camera - Photo Editor, Beauty Selfie, Collage : 100,000,000+\nPhotoGrid: Video & Pic Collage Maker, Photo Editor : 100,000,000+\nCandy Camera - selfie, beauty camera, photo editor : 100,000,000+\nYouCam Perfect - Selfie Photo Editor : 100,000,000+\nCamera360: Selfie Photo Editor with Funny Sticker : 100,000,000+\nS Photo Editor - Collage Maker , Photo Collage : 100,000,000+\nAR effect : 100,000,000+\nCymera Camera- Photo Editor, Filter,Collage,Layout : 100,000,000+\nLINE Camera - Photo editor : 100,000,000+\nPhoto Editor Collage Maker Pro : 100,000,000+\n"
    }
   ],
   "source": [
    "for app in android_free:\n",
    "    if app[1] == 'PHOTOGRAPHY' and (app[5] == '1,000,000,000+'\n",
    "                                      or app[5] == '500,000,000+'\n",
    "                                      or app[5] == '100,000,000+'):\n",
    "        print(app[0], ':', app[5])"
   ]
  },
  {
   "cell_type": "code",
   "execution_count": 44,
   "metadata": {},
   "outputs": [
    {
     "name": "stdout",
     "output_type": "stream",
     "text": "Motorola Camera : 50,000,000+\nHD Camera - Best Cam with filters & panorama : 5,000,000+\nLightX Photo Editor & Photo Effects : 10,000,000+\nSweet Snap - live filter, Selfie photo edit : 10,000,000+\nHuji Cam : 5,000,000+\nHD Camera : 5,000,000+\nMoto Photo Editor : 5,000,000+\nInstaBeauty -Makeup Selfie Cam : 50,000,000+\nPhoto Frame : 10,000,000+\nSelfie Camera - Photo Editor & Filter & Sticker : 50,000,000+\nASUS Gallery : 50,000,000+\nPretty Makeup, Beauty Photo Editor & Snappy Camera : 5,000,000+\nPhoto Collage - Layout Editor : 10,000,000+\nSilent Camera [High Quality] : 5,000,000+\nSweet Camera - Selfie Filters, Beauty Camera : 10,000,000+\nPhoto Frames : 10,000,000+\nCandy selfie - photo editor, live filter camera : 10,000,000+\nOpen Camera : 10,000,000+\nBlur Image Background Editor (Blur Photo Editor) : 5,000,000+\nMuzy - Share photos & collages : 5,000,000+\nQuickPic - Photo Gallery with Google Drive Support : 10,000,000+\nFlickr : 10,000,000+\nCamera for Android : 10,000,000+\nPhoto Mixer : 10,000,000+\nWondershare PowerCam : 10,000,000+\nSweet Camera : 5,000,000+\nRetroSelfie - Selfie Editor : 10,000,000+\nBlur Image Background : 10,000,000+\nMIX by Camera360 : 5,000,000+\nSuperPhoto - Effects & Filters : 5,000,000+\nCamera FV-5 Lite : 10,000,000+\nHD Camera Ultra : 10,000,000+\nCameringo Lite. Filters Camera : 10,000,000+\nCamera ZOOM FX - FREE : 5,000,000+\nGoPro (formerly Capture) : 10,000,000+\nBeauty Makeup Snappy Collage Photo Editor - Lidow : 10,000,000+\nSquare InPic - Photo Editor & Collage Maker : 50,000,000+\nHigh-Speed Camera (GIF,Burst) : 5,000,000+\nCamera MX - Free Photo & Video Camera : 10,000,000+\nEyeEm - Camera & Photo Filter : 10,000,000+\nVSCO : 50,000,000+\nPhotoWonder: Pro Beauty Photo Editor Collage Maker : 50,000,000+\nPhoto Effects Pro : 50,000,000+\nPhoto Editor Selfie Camera Filter & Mirror Image : 50,000,000+\nNo Crop & Square for Instagram : 10,000,000+\nPicture Grid Builder : 5,000,000+\nHD Camera for Android : 10,000,000+\nPhoto Studio : 10,000,000+\nPhoto Editor- : 5,000,000+\nMirror Photo:Editor Collage (HD) : 10,000,000+\nPhotoDirector Photo Editor App : 10,000,000+\nPic Collage - Photo Editor : 50,000,000+\nPhoto Editor by Aviary : 50,000,000+\nVideo Editor Music,Cut,No Crop : 50,000,000+\nPixlr – Free Photo Editor : 50,000,000+\nPhoto Editor : 10,000,000+\nPhoto Collage Maker : 10,000,000+\nAdobe Photoshop Express:Photo Editor Collage Maker : 50,000,000+\nColor Touch Effects : 10,000,000+\nInstaSize Photo Filters & Collage Editor : 50,000,000+\nPixgram- video photo slideshow : 5,000,000+\nFotor Photo Editor - Photo Collage & Photo Effects : 10,000,000+\nSnapseed : 50,000,000+\nFont Studio- Photo Texts Image : 10,000,000+\nPhonto - Text on Photos : 10,000,000+\nCollage&Add Stickers papelook : 5,000,000+\nShutterfly: Free Prints, Photo Books, Cards, Gifts : 5,000,000+\nPhoto Collage - InstaMag : 10,000,000+\nMeitu – Beauty Cam, Easy Photo Editor : 10,000,000+\nBestie - Camera360 Selfie : 10,000,000+\nKeepsafe Photo Vault: Hide Private Photos & Videos : 50,000,000+\nMakeupPlus - Your Own Virtual Makeup Artist : 50,000,000+\nPixlr-o-matic : 10,000,000+\nPixelLab - Text on pictures : 10,000,000+\nAfterFocus : 10,000,000+\nASUS PixelMaster Camera : 10,000,000+\nBlur Image - DSLR focus effect : 5,000,000+\nA Better Camera : 5,000,000+\nPhotoScan by Google Photos : 10,000,000+\nAdobe Illustrator Draw : 5,000,000+\nFaceApp : 10,000,000+\nScoompa Video - Slideshow Maker and Video Editor : 10,000,000+\nSNOW - AR Camera : 50,000,000+\nPhoto Editor by BeFunky : 10,000,000+\nAdobe Photoshop Fix : 5,000,000+\nPhotoLayers〜Superimpose,Eraser : 10,000,000+\nChange photo background : 5,000,000+\nBackground Eraser : 10,000,000+\nCamera360 Lite - Selfie Camera : 10,000,000+\nFace Filter, Selfie Editor - Sweet Camera : 10,000,000+\nVisage Lab – face retouch : 5,000,000+\nBokeh (Background defocus) : 10,000,000+\nLove Collage - Photo Editor : 10,000,000+\nMy Photo Keyboard : 10,000,000+\nStory Saver for Instagram : 5,000,000+\nBoomerang from Instagram : 50,000,000+\nRetro Camera : 10,000,000+\nPhoto Lab Picture Editor: face effects, art frames : 50,000,000+\nMomentCam Cartoons & Stickers : 50,000,000+\nA+ Gallery - Photos & Videos : 10,000,000+\nFacejjang : 10,000,000+\nGhost In Photo : 5,000,000+\nPIP Selfie Camera Photo Editor : 10,000,000+\nFree Slideshow Maker & Video Editor : 10,000,000+\nPhotoFunia : 10,000,000+\n"
    }
   ],
   "source": [
    "for app in android_free:\n",
    "    if app[1] == 'PHOTOGRAPHY' and (app[5] == '50,000,000+'\n",
    "                                      or app[5] == '10,000,000+'\n",
    "                                      or app[5] == '5,000,000+'):\n",
    "        print(app[0], ':', app[5])"
   ]
  },
  {
   "cell_type": "markdown",
   "metadata": {},
   "source": [
    "As we see, there is just one app that has more than 1,000,000,000+ installs (Google Photos) and some apps with 100,000,000+ installs (less than 20 apps) and quite wide variaty of apps from 5,000,000 to 100,000,000 installs. We could aim for this sector with a photo editor and filter app."
   ]
  },
  {
   "cell_type": "markdown",
   "metadata": {},
   "source": [
    "## Conclusions\n",
    "\n",
    "We analyzed apps on Google Play and App Store by categories / genres and found out which are more popular and, therefore, more profitable.\n",
    "\n",
    "Our conclusion is that Photo editing Apps are popular, profitable and comfortable to create and maintain. Photo apps are one of the leaders on both Google Play Store and App Store. They have better possibilities for entering the market than Social or Gaming apps. And they don't require phisical product or service as Food, Finance or Shopping Apps. "
   ]
  }
 ],
 "metadata": {
  "kernelspec": {
   "display_name": "Python 3",
   "language": "python",
   "name": "python3"
  },
  "language_info": {
   "codemirror_mode": {
    "name": "ipython",
    "version": 3
   },
   "file_extension": ".py",
   "mimetype": "text/x-python",
   "name": "python",
   "nbconvert_exporter": "python",
   "pygments_lexer": "ipython3",
   "version": "3.7.6-final"
  }
 },
 "nbformat": 4,
 "nbformat_minor": 2
}