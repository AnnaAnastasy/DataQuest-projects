{
 "cells": [
  {
   "cell_type": "markdown",
   "metadata": {},
   "source": [
    "# Exploring Hacker News Posts - Finding the Best Time to Post a Question\n",
    "\n",
    "Hacker News is a site started by the startup incubator Y Combinator, where user-submitted stories (known as \"posts\") are voted and commented upon. Hacker News is extremely popular in technology and startup circles, and posts that make it to the top of Hacker News' listings can get hundreds of thousands of visitors as a result. In this project, we will analyse some of the patterns of successful posts. \n",
    "\n",
    "You can find the data set [here](https://www.kaggle.com/santiagobasulto/all-hacker-news-posts-stories-askshow-hn-polls). It includes all Hacker News posts since 2006 until 2019.\n",
    "\n",
    "Below are descriptions of the columns:\n",
    "\n",
    "|Columns             |Description                                      |\n",
    "|--------------------|-------------------------------------------------|\n",
    "|Object ID           |The post ID from the API                         |\n",
    "|Title               |Title of the story                               |\n",
    "|Post Type           |Story (regular post), ask_hn, show_hn, poll      |\n",
    "|Author              |HN Username of the author                        |\n",
    "|Created At          |Datetime created in format YYYY-MM-DD HH:MM:SS   |\n",
    "|URL                 |URL Posted, can be null for ask_hn, show_hn, etc |\n",
    "|Points              |Number of points the post received               |\n",
    "|Number of Comments  |Number of total comments posted                  |\n",
    "\n",
    "We're specifically interested in post types `Ask HN` and `Show HN`. Users submit `Ask HN` posts to ask the Hacker News community a specific question. Likewise, users submit `Show HN` posts to show the Hacker News community a project, product, or just generally something interesting.\n",
    "\n",
    "We'll compare these two types of posts to determine the following:\n",
    "\n",
    "* Do Ask HN or Show HN receive more comments on average?\n",
    "* Do posts created at a certain time receive more comments on average?\n",
    "\n",
    "Let's start by importing the library we need and reading the data set into a list of lists."
   ]
  },
  {
   "cell_type": "code",
   "execution_count": 1,
   "metadata": {},
   "outputs": [],
   "source": [
    "from csv import reader\n",
    "\n",
    "opened_file = open('hn.csv', encoding=\"utf8\")\n",
    "read_file = reader(opened_file)\n",
    "hn = list(read_file)"
   ]
  },
  {
   "cell_type": "markdown",
   "metadata": {},
   "source": [
    "## Exploring Dataset"
   ]
  },
  {
   "cell_type": "code",
   "execution_count": 2,
   "metadata": {},
   "outputs": [],
   "source": [
    "# function for exploring data (to look at few chosen rows)\n",
    "def explore_data(dataset, start, end, rows_and_columns = False):\n",
    "    dataset_slice = dataset[start:end]    \n",
    "    for row in dataset_slice:\n",
    "        print(row)\n",
    "        print('\\n')\n",
    "\n",
    "    if rows_and_columns:\n",
    "        print('Number of rows:', len(dataset))\n",
    "        print('Number of columns:', len(dataset[0]))"
   ]
  },
  {
   "cell_type": "code",
   "execution_count": 3,
   "metadata": {},
   "outputs": [
    {
     "name": "stdout",
     "output_type": "stream",
     "text": "['Object ID', 'Title', 'Post Type', 'Author', 'Created At', 'URL', 'Points', 'Number of Comments']\n\n\n['1', 'Y Combinator', 'story', 'pg', '2006-10-09 18:21:51', 'http://ycombinator.com', '61', '18.0']\n\n\n['2', \"A Student's Guide to Startups\", 'story', 'phyllis', '2006-10-09 18:30:28', 'http://www.paulgraham.com/mit.html', '16', '1.0']\n\n\n['3', 'Woz Interview: the early days of Apple', 'story', 'phyllis', '2006-10-09 18:40:33', 'http://www.foundersatwork.com/stevewozniak.html', '7', '1.0']\n\n\n['4', 'NYC Developer Dilemma', 'story', 'onebeerdave', '2006-10-09 18:47:42', 'http://avc.blogs.com/a_vc/2006/10/the_nyc_develop.html', '5', '1.0']\n\n\nNumber of rows: 2833356\nNumber of columns: 8\n"
    }
   ],
   "source": [
    "explore_data(hn, 0, 5, True)"
   ]
  },
  {
   "cell_type": "markdown",
   "metadata": {},
   "source": [
    "## Removing Headers\n",
    "The first row consist of headers, let's extract them to the variable `headers` and remove them from out set"
   ]
  },
  {
   "cell_type": "code",
   "execution_count": 4,
   "metadata": {},
   "outputs": [
    {
     "name": "stdout",
     "output_type": "stream",
     "text": "['Object ID', 'Title', 'Post Type', 'Author', 'Created At', 'URL', 'Points', 'Number of Comments']\n[['1', 'Y Combinator', 'story', 'pg', '2006-10-09 18:21:51', 'http://ycombinator.com', '61', '18.0'], ['2', \"A Student's Guide to Startups\", 'story', 'phyllis', '2006-10-09 18:30:28', 'http://www.paulgraham.com/mit.html', '16', '1.0'], ['3', 'Woz Interview: the early days of Apple', 'story', 'phyllis', '2006-10-09 18:40:33', 'http://www.foundersatwork.com/stevewozniak.html', '7', '1.0'], ['4', 'NYC Developer Dilemma', 'story', 'onebeerdave', '2006-10-09 18:47:42', 'http://avc.blogs.com/a_vc/2006/10/the_nyc_develop.html', '5', '1.0'], ['5', 'Google, YouTube acquisition announcement could come tonight', 'story', 'perler', '2006-10-09 18:51:04', 'http://www.techcrunch.com/2006/10/09/google-youtube-sign-more-separate-deals/', '7', '1.0']]\n"
    }
   ],
   "source": [
    "headers = hn[0]      # DO NOT RUN MORE THAN ONCE\n",
    "hn = hn[1:]\n",
    "\n",
    "print(headers)\n",
    "print(hn[:5])"
   ]
  },
  {
   "cell_type": "markdown",
   "metadata": {},
   "source": [
    "## Extracting Ask HN and Show HN Posts\n",
    "\n",
    "Now that we've removed the headers from `hn`, we're ready to filter our data. Since we're only concerned with post types `ask_hn` or `show_hn`, we'll create new lists of lists containing just the data for those titles."
   ]
  },
  {
   "cell_type": "code",
   "execution_count": 5,
   "metadata": {},
   "outputs": [
    {
     "name": "stdout",
     "output_type": "stream",
     "text": "The number of 'ASK' posts: 107370\nThe number of 'SHOW' posts: 76726\nThe number of 'OTHER' posts: 2649259\n"
    }
   ],
   "source": [
    "ask_posts = []\n",
    "show_posts = []\n",
    "other_posts = []\n",
    "\n",
    "for row in hn:\n",
    "    post_type = row[2]\n",
    "    if post_type == 'ask_hn':\n",
    "        ask_posts.append(row) \n",
    "    elif post_type == 'show_hn':\n",
    "        show_posts.append(row)  \n",
    "    else:\n",
    "        other_posts.append(row)\n",
    "        \n",
    "print(\"The number of 'ASK' posts:\",len(ask_posts))\n",
    "print(\"The number of 'SHOW' posts:\",len(show_posts))\n",
    "print(\"The number of 'OTHER' posts:\",len(other_posts))"
   ]
  },
  {
   "cell_type": "markdown",
   "metadata": {},
   "source": [
    "Below are the first five rows in the `ask_posts` list of lists:"
   ]
  },
  {
   "cell_type": "code",
   "execution_count": 6,
   "metadata": {},
   "outputs": [
    {
     "name": "stdout",
     "output_type": "stream",
     "text": "['121003', 'Ask HN: The Arc Effect', 'ask_hn', 'tel', '2008-02-22 02:33:40', '', '25', '16.0']\n\n\n['127952', 'Ask HN: I want to make a webapp. Where do I start?', 'ask_hn', 'subhash', '2008-03-03 09:44:50', '', '14', '34.0']\n\n\n['128917', 'Ask HN: Where do you stand on privacy?', 'ask_hn', 'h34t', '2008-03-04 16:31:54', '', '4', '11.0']\n\n\n['131673', 'Ask HN: Could you implement News.YC in your favorite language?', 'ask_hn', 'aswanson', '2008-03-08 01:15:39', '', '4', '9.0']\n\n\n['133543', 'Ask HN: Does anyone here play golf?', 'ask_hn', 'jgrahamc', '2008-03-10 22:41:44', '', '2', '7.0']\n\n\n"
    }
   ],
   "source": [
    "explore_data(ask_posts, 0, 5)"
   ]
  },
  {
   "cell_type": "markdown",
   "metadata": {},
   "source": [
    "Below are the first five rows in the `show_posts` list of lists:"
   ]
  },
  {
   "cell_type": "code",
   "execution_count": 7,
   "metadata": {},
   "outputs": [
    {
     "name": "stdout",
     "output_type": "stream",
     "text": "['510264', 'Show HN: Our new online face recognition demo', 'show_hn', 'lbrandy', '2009-03-10 17:33:00', 'http://webdemo.pittpatt.com/recognition_demo/', '50', '25.0']\n\n\n['512080', 'Show HN: JStartup - Hacker News for news people/journalists', 'show_hn', 'brandnewlow', '2009-03-11 17:25:49', 'http://jstartup.com/', '2', '0.0']\n\n\n['521135', 'Show HN: Code draws better than you', 'show_hn', 'ktharavaad', '2009-03-18 03:51:27', 'http://blog.kpicturebooth.com/?p=25', '19', '7.0']\n\n\n['577224', 'Show HN: Hacking is not Cracking', 'show_hn', 'hellweaver666', '2009-04-24 09:24:05', 'http://www.hackingisnotcracking.com/', '3', '15.0']\n\n\n['870058', 'Show HN: Checkout the app my company helped launch', 'show_hn', 'clistctrl', '2009-10-08 21:53:19', 'http://commonwealthfund.org/Charts-and-Maps/State-Scorecard-2009.aspx', '1', '0.0']\n\n\n"
    }
   ],
   "source": [
    "explore_data(show_posts, 0, 5)"
   ]
  },
  {
   "cell_type": "markdown",
   "metadata": {},
   "source": [
    "## Calculating the Average Number of Comments for Ask HN and Show HN Posts\n",
    "\n",
    "Next, let's determine if ask posts or show posts receive more comments on average."
   ]
  },
  {
   "cell_type": "code",
   "execution_count": 8,
   "metadata": {},
   "outputs": [
    {
     "name": "stdout",
     "output_type": "stream",
     "text": "The average number of comments on ask posts: 10.09\nThe average number of comments on show posts: 5.85\n"
    }
   ],
   "source": [
    "# find the total number of comments in ask posts\n",
    "total_ask_comments = 0\n",
    "for row in ask_posts:\n",
    "    num_comments = float(row[-1])\n",
    "    total_ask_comments += num_comments\n",
    "\n",
    "avg_ask_comments = total_ask_comments / len(ask_posts)\n",
    "print(\"The average number of comments on ask posts:\", round(avg_ask_comments,2))\n",
    "\n",
    "# find the total number of comments in show posts\n",
    "total_show_comments = 0\n",
    "for row in show_posts:\n",
    "    num_comments = float(row[-1])\n",
    "    total_show_comments += num_comments\n",
    "\n",
    "avg_show_comments = total_show_comments / len(show_posts)\n",
    "print(\"The average number of comments on show posts:\", round(avg_show_comments,2))"
   ]
  },
  {
   "cell_type": "markdown",
   "metadata": {},
   "source": [
    "On average, ask posts in our sample receive approximately 10 comments, whereas show posts receive approximately 6.  It means people tend to answer questions more than to comment interesting posts or someone's projects. \n",
    "\n",
    "Since ask posts are more likely to receive comments, we'll focus our remaining analysis just on these posts.\n",
    "\n",
    "## Finding the Amount of Ask Posts and Comments by Hour \n",
    "\n",
    "Next, we'll determine if ask posts created at a certain time are more likely to attract comments. We'll use the following steps to perform this analysis:\n",
    "\n",
    "* Calculate the amount of ask posts created in each hour of the day, along with the number of comments received.\n",
    "* Calculate the average number of comments ask posts receive by hour created."
   ]
  },
  {
   "cell_type": "code",
   "execution_count": 9,
   "metadata": {},
   "outputs": [
    {
     "name": "stdout",
     "output_type": "stream",
     "text": "Posts by hour: {'02': 3416, '09': 2916, '16': 7075, '01': 3567, '22': 4934, '08': 2812, '17': 7097, '18': 6938, '20': 6067, '07': 2592, '12': 3890, '19': 6551, '21': 5692, '05': 2854, '00': 3804, '11': 3346, '03': 3290, '14': 5806, '15': 6853, '23': 4301, '06': 2755, '13': 4687, '04': 3073, '10': 3054}\n\nComments by hour: {'02': 33068, '09': 25412, '16': 78156, '01': 32486, '22': 37992, '08': 27861, '17': 63069, '18': 57766, '20': 48257, '07': 22723, '12': 51702, '19': 49986, '21': 40450, '05': 25991, '00': 32528, '11': 41748, '03': 31643, '14': 68115, '15': 118650, '23': 35923, '06': 28070, '13': 69658, '04': 29347, '10': 32760}\n"
    }
   ],
   "source": [
    "import datetime as dt\n",
    "\n",
    "result_list = []\n",
    "\n",
    "# append lists with 2 elements (date when the post was created and number of comments) to `result_list`\n",
    "for post in ask_posts:\n",
    "    created_at = post[4]\n",
    "    n_comments = float(post[-1])\n",
    "    result_list.append([created_at, n_comments])\n",
    "    \n",
    "comments_by_hour = {}\n",
    "counts_by_hour = {}\n",
    "\n",
    "# function to extract hours and add them to dictionaries\n",
    "for row in result_list:\n",
    "    dt_object = dt.datetime.strptime(row[0],  \"%Y-%m-%d %H:%M:%S\")    \n",
    "    hour = dt_object.strftime(\"%H\")                                  \n",
    "    \n",
    "    if hour not in counts_by_hour:\n",
    "        counts_by_hour[hour] = 1\n",
    "        comments_by_hour[hour] = int(row[1])   \n",
    "    else:\n",
    "        counts_by_hour[hour] += 1\n",
    "        comments_by_hour[hour] += int(row[1])\n",
    "        \n",
    "print(\"Posts by hour:\", counts_by_hour)\n",
    "print(\"\\nComments by hour:\", comments_by_hour)"
   ]
  },
  {
   "cell_type": "markdown",
   "metadata": {},
   "source": [
    " ## Calculating the Average Number of Comments for Ask HN Posts by Hour\n",
    " \n",
    "Next, we'll use these two dictionaries to calculate the average number of comments for posts created during each hour of the day."
   ]
  },
  {
   "cell_type": "code",
   "execution_count": 10,
   "metadata": {},
   "outputs": [
    {
     "name": "stdout",
     "output_type": "stream",
     "text": "Average Number of Comments per Hour: \n\n"
    },
    {
     "data": {
      "text/plain": "[['00', 8.55],\n ['01', 9.11],\n ['02', 9.68],\n ['03', 9.62],\n ['04', 9.55],\n ['05', 9.11],\n ['06', 10.19],\n ['07', 8.77],\n ['08', 9.91],\n ['09', 8.71],\n ['10', 10.73],\n ['11', 12.48],\n ['12', 13.29],\n ['13', 14.86],\n ['14', 11.73],\n ['15', 17.31],\n ['16', 11.05],\n ['17', 8.89],\n ['18', 8.33],\n ['19', 7.63],\n ['20', 7.95],\n ['21', 7.11],\n ['22', 7.7],\n ['23', 8.35]]"
     },
     "execution_count": 10,
     "metadata": {},
     "output_type": "execute_result"
    }
   ],
   "source": [
    "# create a list of lists of 2 elements: hour and average number of comments \n",
    "avg_by_hour = []\n",
    "for hour in counts_by_hour and comments_by_hour:\n",
    "    avg_num = round((comments_by_hour[hour] / counts_by_hour[hour]), 2)\n",
    "    avg_by_hour.append([hour, avg_num])\n",
    "\n",
    "avg_by_hour.sort()\n",
    "\n",
    "print(\"Average Number of Comments per Hour: \\n\")\n",
    "avg_by_hour"
   ]
  },
  {
   "cell_type": "markdown",
   "metadata": {},
   "source": [
    "## Sorting and Printing Values from a List of Lists"
   ]
  },
  {
   "cell_type": "code",
   "execution_count": 11,
   "metadata": {},
   "outputs": [
    {
     "name": "stdout",
     "output_type": "stream",
     "text": "Top 5 Hours for Ask Posts Comments: [['11', 12.48], ['12', 13.29], ['13', 14.86], ['14', 11.73], ['15', 17.31]]\n"
    }
   ],
   "source": [
    "# swap a list and sort in reverse order by comments\n",
    "swap_avg_by_hour = []\n",
    "for row in avg_by_hour:\n",
    "    swap_avg_by_hour.append([row[1], row[0]])\n",
    "swap_avg_by_hour.sort(reverse = True)\n",
    "\n",
    "#top 5 hours with the highest comments count\n",
    "top_avg_by_hour = swap_avg_by_hour[:5]\n",
    "\n",
    "# swap the order back (first hour, then comments count)\n",
    "swapped_top = []\n",
    "for row in top_avg_by_hour:\n",
    "    swapped_top.append([row[1], row[0]])\n",
    "\n",
    "swapped_top.sort()\n",
    "print(\"Top 5 Hours for Ask Posts Comments:\", swapped_top)"
   ]
  },
  {
   "cell_type": "code",
   "execution_count": 12,
   "metadata": {},
   "outputs": [
    {
     "data": {
      "text/plain": "['11:00: 12.48 average comments per post',\n '12:00: 13.29 average comments per post',\n '13:00: 14.86 average comments per post',\n '14:00: 11.73 average comments per post',\n '15:00: 17.31 average comments per post']"
     },
     "execution_count": 12,
     "metadata": {},
     "output_type": "execute_result"
    }
   ],
   "source": [
    "top_5 = []\n",
    "\n",
    "for row in swapped_top:\n",
    "    time = row[0]\n",
    "    comments = row[1]\n",
    "    top_5.append(\"{0}:00: {1} average comments per post\".format(time, comments))\n",
    "\n",
    "top_5"
   ]
  },
  {
   "cell_type": "markdown",
   "metadata": {},
   "source": [
    "We can easily see that the most popular time range is from 11 am until 3 pm with the highest value at 3 pm.\n",
    "\n",
    "# Conclusions\n",
    "\n",
    "We analysed which posts on Hacker News get more comments and what time is the most popular one. \n",
    "\n",
    "We compared `Ask HN` posts (with questions to the Hacker News community) and `Show HN` posts (with projects, products, etc.) and noticed that `Ask HN` posts tend to receive almost twice more comments on average. \n",
    "\n",
    "As well, we calculated the average number of comments on `Ask HN` posts by hour and found out that to have a higher chance of receiving comments we should create posts from 11 PM until 3 PM (with the highest chance at 3 PM and lowest at 2 PM). All hours are given for Eastern Standard Time (EST) or UTC/GMT -5."
   ]
  }
 ],
 "metadata": {
  "kernelspec": {
   "display_name": "Python 3",
   "language": "python",
   "name": "python3"
  },
  "language_info": {
   "codemirror_mode": {
    "name": "ipython",
    "version": 3
   },
   "file_extension": ".py",
   "mimetype": "text/x-python",
   "name": "python",
   "nbconvert_exporter": "python",
   "pygments_lexer": "ipython3",
   "version": "3.7.6-final"
  }
 },
 "nbformat": 4,
 "nbformat_minor": 2
}