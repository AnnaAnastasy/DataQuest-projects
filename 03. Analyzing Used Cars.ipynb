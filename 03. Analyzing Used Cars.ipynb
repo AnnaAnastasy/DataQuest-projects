{
 "cells": [
  {
   "cell_type": "markdown",
   "metadata": {},
   "source": [
    "# Analyzing Used Cars on eBay Kleinanzeigen\n",
    "\n",
    "In this project, we'll work with a dataset of used cars from eBay Kleinanzeigen.\n",
    "\n",
    "Over 370000 used cars were scraped with Scrapy from Ebay-Kleinanzeigen and uploded to [Kaggle](https://www.kaggle.com/orgesleka/used-cars-database/data). Included fields are:\n",
    "\n",
    "- *dateCrawled* : when this ad was first crawled, all field-values are taken from this date\n",
    "- *name* : \"name\" of the car\n",
    "- *seller* : private or dealer\n",
    "- *offerType* : type of listing\n",
    "- *price* : the price on the ad to sell the car\n",
    "- *abtest* : whether the listing is included in an A/B test\n",
    "- *vehicleType* : the vehicle type\n",
    "- *yearOfRegistration* : at which year the car was first registered\n",
    "- *gearbox* : the transmission type \n",
    "- *powerPS* : power of the car in PS\n",
    "- *model* : the car model name\n",
    "- *kilometer* : how many kilometers the car has driven\n",
    "- *monthOfRegistration* : at which month the car was first registered\n",
    "- *fuelType* : what type of fuel the car uses\n",
    "- *brand* : the brand of the car\n",
    "- *notRepairedDamage* : if the car has a damage which is not repaired yet\n",
    "- *dateCreated* : the date for which the ad at ebay was created\n",
    "- *nrOfPictures* : number of pictures in the ad \n",
    "- *postalCode* : the postal code for the location of the vehicle\n",
    "- *lastSeenOnline* : when the crawler saw this ad last online\n",
    "\n",
    "## Importing Libraries, Opening and Examination of the Data Set"
   ]
  },
  {
   "cell_type": "code",
   "execution_count": 1,
   "metadata": {},
   "outputs": [],
   "source": [
    "import pandas as pd\n",
    "import numpy as np\n",
    "\n",
    "autos = pd.read_csv(\"autos.csv\", encoding = \"Latin-1\")"
   ]
  },
  {
   "cell_type": "code",
   "execution_count": 2,
   "metadata": {},
   "outputs": [
    {
     "name": "stdout",
     "output_type": "stream",
     "text": "<class 'pandas.core.frame.DataFrame'>\nRangeIndex: 371528 entries, 0 to 371527\nData columns (total 20 columns):\ndateCrawled            371528 non-null object\nname                   371528 non-null object\nseller                 371528 non-null object\nofferType              371528 non-null object\nprice                  371528 non-null int64\nabtest                 371528 non-null object\nvehicleType            333659 non-null object\nyearOfRegistration     371528 non-null int64\ngearbox                351319 non-null object\npowerPS                371528 non-null int64\nmodel                  351044 non-null object\nkilometer              371528 non-null int64\nmonthOfRegistration    371528 non-null int64\nfuelType               338142 non-null object\nbrand                  371528 non-null object\nnotRepairedDamage      299468 non-null object\ndateCreated            371528 non-null object\nnrOfPictures           371528 non-null int64\npostalCode             371528 non-null int64\nlastSeen               371528 non-null object\ndtypes: int64(7), object(13)\nmemory usage: 56.7+ MB\n"
    },
    {
     "data": {
      "text/html": "<div>\n<style scoped>\n    .dataframe tbody tr th:only-of-type {\n        vertical-align: middle;\n    }\n\n    .dataframe tbody tr th {\n        vertical-align: top;\n    }\n\n    .dataframe thead th {\n        text-align: right;\n    }\n</style>\n<table border=\"1\" class=\"dataframe\">\n  <thead>\n    <tr style=\"text-align: right;\">\n      <th></th>\n      <th>dateCrawled</th>\n      <th>name</th>\n      <th>seller</th>\n      <th>offerType</th>\n      <th>price</th>\n      <th>abtest</th>\n      <th>vehicleType</th>\n      <th>yearOfRegistration</th>\n      <th>gearbox</th>\n      <th>powerPS</th>\n      <th>model</th>\n      <th>kilometer</th>\n      <th>monthOfRegistration</th>\n      <th>fuelType</th>\n      <th>brand</th>\n      <th>notRepairedDamage</th>\n      <th>dateCreated</th>\n      <th>nrOfPictures</th>\n      <th>postalCode</th>\n      <th>lastSeen</th>\n    </tr>\n  </thead>\n  <tbody>\n    <tr>\n      <th>0</th>\n      <td>2016-03-24 11:52:17</td>\n      <td>Golf_3_1.6</td>\n      <td>privat</td>\n      <td>Angebot</td>\n      <td>480</td>\n      <td>test</td>\n      <td>NaN</td>\n      <td>1993</td>\n      <td>manuell</td>\n      <td>0</td>\n      <td>golf</td>\n      <td>150000</td>\n      <td>0</td>\n      <td>benzin</td>\n      <td>volkswagen</td>\n      <td>NaN</td>\n      <td>2016-03-24 00:00:00</td>\n      <td>0</td>\n      <td>70435</td>\n      <td>2016-04-07 03:16:57</td>\n    </tr>\n    <tr>\n      <th>1</th>\n      <td>2016-03-24 10:58:45</td>\n      <td>A5_Sportback_2.7_Tdi</td>\n      <td>privat</td>\n      <td>Angebot</td>\n      <td>18300</td>\n      <td>test</td>\n      <td>coupe</td>\n      <td>2011</td>\n      <td>manuell</td>\n      <td>190</td>\n      <td>NaN</td>\n      <td>125000</td>\n      <td>5</td>\n      <td>diesel</td>\n      <td>audi</td>\n      <td>ja</td>\n      <td>2016-03-24 00:00:00</td>\n      <td>0</td>\n      <td>66954</td>\n      <td>2016-04-07 01:46:50</td>\n    </tr>\n    <tr>\n      <th>2</th>\n      <td>2016-03-14 12:52:21</td>\n      <td>Jeep_Grand_Cherokee_\"Overland\"</td>\n      <td>privat</td>\n      <td>Angebot</td>\n      <td>9800</td>\n      <td>test</td>\n      <td>suv</td>\n      <td>2004</td>\n      <td>automatik</td>\n      <td>163</td>\n      <td>grand</td>\n      <td>125000</td>\n      <td>8</td>\n      <td>diesel</td>\n      <td>jeep</td>\n      <td>NaN</td>\n      <td>2016-03-14 00:00:00</td>\n      <td>0</td>\n      <td>90480</td>\n      <td>2016-04-05 12:47:46</td>\n    </tr>\n    <tr>\n      <th>3</th>\n      <td>2016-03-17 16:54:04</td>\n      <td>GOLF_4_1_4__3TÜRER</td>\n      <td>privat</td>\n      <td>Angebot</td>\n      <td>1500</td>\n      <td>test</td>\n      <td>kleinwagen</td>\n      <td>2001</td>\n      <td>manuell</td>\n      <td>75</td>\n      <td>golf</td>\n      <td>150000</td>\n      <td>6</td>\n      <td>benzin</td>\n      <td>volkswagen</td>\n      <td>nein</td>\n      <td>2016-03-17 00:00:00</td>\n      <td>0</td>\n      <td>91074</td>\n      <td>2016-03-17 17:40:17</td>\n    </tr>\n    <tr>\n      <th>4</th>\n      <td>2016-03-31 17:25:20</td>\n      <td>Skoda_Fabia_1.4_TDI_PD_Classic</td>\n      <td>privat</td>\n      <td>Angebot</td>\n      <td>3600</td>\n      <td>test</td>\n      <td>kleinwagen</td>\n      <td>2008</td>\n      <td>manuell</td>\n      <td>69</td>\n      <td>fabia</td>\n      <td>90000</td>\n      <td>7</td>\n      <td>diesel</td>\n      <td>skoda</td>\n      <td>nein</td>\n      <td>2016-03-31 00:00:00</td>\n      <td>0</td>\n      <td>60437</td>\n      <td>2016-04-06 10:17:21</td>\n    </tr>\n  </tbody>\n</table>\n</div>",
      "text/plain": "           dateCrawled                            name  seller offerType  \\\n0  2016-03-24 11:52:17                      Golf_3_1.6  privat   Angebot   \n1  2016-03-24 10:58:45            A5_Sportback_2.7_Tdi  privat   Angebot   \n2  2016-03-14 12:52:21  Jeep_Grand_Cherokee_\"Overland\"  privat   Angebot   \n3  2016-03-17 16:54:04              GOLF_4_1_4__3TÜRER  privat   Angebot   \n4  2016-03-31 17:25:20  Skoda_Fabia_1.4_TDI_PD_Classic  privat   Angebot   \n\n   price abtest vehicleType  yearOfRegistration    gearbox  powerPS  model  \\\n0    480   test         NaN                1993    manuell        0   golf   \n1  18300   test       coupe                2011    manuell      190    NaN   \n2   9800   test         suv                2004  automatik      163  grand   \n3   1500   test  kleinwagen                2001    manuell       75   golf   \n4   3600   test  kleinwagen                2008    manuell       69  fabia   \n\n   kilometer  monthOfRegistration fuelType       brand notRepairedDamage  \\\n0     150000                    0   benzin  volkswagen               NaN   \n1     125000                    5   diesel        audi                ja   \n2     125000                    8   diesel        jeep               NaN   \n3     150000                    6   benzin  volkswagen              nein   \n4      90000                    7   diesel       skoda              nein   \n\n           dateCreated  nrOfPictures  postalCode             lastSeen  \n0  2016-03-24 00:00:00             0       70435  2016-04-07 03:16:57  \n1  2016-03-24 00:00:00             0       66954  2016-04-07 01:46:50  \n2  2016-03-14 00:00:00             0       90480  2016-04-05 12:47:46  \n3  2016-03-17 00:00:00             0       91074  2016-03-17 17:40:17  \n4  2016-03-31 00:00:00             0       60437  2016-04-06 10:17:21  "
     },
     "execution_count": 2,
     "metadata": {},
     "output_type": "execute_result"
    }
   ],
   "source": [
    "autos.info()\n",
    "autos.head()"
   ]
  },
  {
   "cell_type": "markdown",
   "metadata": {},
   "source": [
    "We can make the following observations:\n",
    "\n",
    "- The dataset contains 20 columns, strings and integers.\n",
    "- Some columns have null values, but none have more than ~20% null values.\n",
    "- The column names use camelcase instead of Python's preferred snakecase.\n",
    "\n",
    "First, let's convert the column names from camelcase to snakecase and reword some of the column names based on the data dictionary to be more descriptive.\n",
    "\n",
    "## Cleaning Column Names"
   ]
  },
  {
   "cell_type": "code",
   "execution_count": 3,
   "metadata": {},
   "outputs": [
    {
     "data": {
      "text/plain": "Index(['dateCrawled', 'name', 'seller', 'offerType', 'price', 'abtest',\n       'vehicleType', 'yearOfRegistration', 'gearbox', 'powerPS', 'model',\n       'kilometer', 'monthOfRegistration', 'fuelType', 'brand',\n       'notRepairedDamage', 'dateCreated', 'nrOfPictures', 'postalCode',\n       'lastSeen'],\n      dtype='object')"
     },
     "execution_count": 3,
     "metadata": {},
     "output_type": "execute_result"
    }
   ],
   "source": [
    "autos.columns"
   ]
  },
  {
   "cell_type": "code",
   "execution_count": 4,
   "metadata": {},
   "outputs": [],
   "source": [
    "# create new names for columns\n",
    "autos.columns = ['date_crawled', 'name', 'seller', 'offer_type', 'price', \n",
    "                 'abtest','vehicle_type', 'registration_year', 'gearbox', \n",
    "                 'power_ps', 'model', 'odometer', 'registration_month', \n",
    "                 'fuel_type', 'brand','unrepaired_damage', 'ad_created', \n",
    "                 'nr_of_pictures', 'postal_code','last_seen']"
   ]
  },
  {
   "cell_type": "markdown",
   "metadata": {},
   "source": [
    "## Initial Data Exploration and Data Cleaning\n",
    "We'll start by exploring the data to find obvious areas where we should clean the data."
   ]
  },
  {
   "cell_type": "code",
   "execution_count": 5,
   "metadata": {},
   "outputs": [
    {
     "data": {
      "text/html": "<div>\n<style scoped>\n    .dataframe tbody tr th:only-of-type {\n        vertical-align: middle;\n    }\n\n    .dataframe tbody tr th {\n        vertical-align: top;\n    }\n\n    .dataframe thead th {\n        text-align: right;\n    }\n</style>\n<table border=\"1\" class=\"dataframe\">\n  <thead>\n    <tr style=\"text-align: right;\">\n      <th></th>\n      <th>date_crawled</th>\n      <th>name</th>\n      <th>seller</th>\n      <th>offer_type</th>\n      <th>price</th>\n      <th>abtest</th>\n      <th>vehicle_type</th>\n      <th>registration_year</th>\n      <th>gearbox</th>\n      <th>power_ps</th>\n      <th>model</th>\n      <th>odometer</th>\n      <th>registration_month</th>\n      <th>fuel_type</th>\n      <th>brand</th>\n      <th>unrepaired_damage</th>\n      <th>ad_created</th>\n      <th>nr_of_pictures</th>\n      <th>postal_code</th>\n      <th>last_seen</th>\n    </tr>\n  </thead>\n  <tbody>\n    <tr>\n      <th>count</th>\n      <td>371528</td>\n      <td>371528</td>\n      <td>371528</td>\n      <td>371528</td>\n      <td>3.715280e+05</td>\n      <td>371528</td>\n      <td>333659</td>\n      <td>371528.000000</td>\n      <td>351319</td>\n      <td>371528.000000</td>\n      <td>351044</td>\n      <td>371528.000000</td>\n      <td>371528.000000</td>\n      <td>338142</td>\n      <td>371528</td>\n      <td>299468</td>\n      <td>371528</td>\n      <td>371528.0</td>\n      <td>371528.00000</td>\n      <td>371528</td>\n    </tr>\n    <tr>\n      <th>unique</th>\n      <td>280500</td>\n      <td>233531</td>\n      <td>2</td>\n      <td>2</td>\n      <td>NaN</td>\n      <td>2</td>\n      <td>8</td>\n      <td>NaN</td>\n      <td>2</td>\n      <td>NaN</td>\n      <td>251</td>\n      <td>NaN</td>\n      <td>NaN</td>\n      <td>7</td>\n      <td>40</td>\n      <td>2</td>\n      <td>114</td>\n      <td>NaN</td>\n      <td>NaN</td>\n      <td>182806</td>\n    </tr>\n    <tr>\n      <th>top</th>\n      <td>2016-03-24 14:49:47</td>\n      <td>Ford_Fiesta</td>\n      <td>privat</td>\n      <td>Angebot</td>\n      <td>NaN</td>\n      <td>test</td>\n      <td>limousine</td>\n      <td>NaN</td>\n      <td>manuell</td>\n      <td>NaN</td>\n      <td>golf</td>\n      <td>NaN</td>\n      <td>NaN</td>\n      <td>benzin</td>\n      <td>volkswagen</td>\n      <td>nein</td>\n      <td>2016-04-03 00:00:00</td>\n      <td>NaN</td>\n      <td>NaN</td>\n      <td>2016-04-06 13:45:54</td>\n    </tr>\n    <tr>\n      <th>freq</th>\n      <td>7</td>\n      <td>657</td>\n      <td>371525</td>\n      <td>371516</td>\n      <td>NaN</td>\n      <td>192585</td>\n      <td>95894</td>\n      <td>NaN</td>\n      <td>274214</td>\n      <td>NaN</td>\n      <td>30070</td>\n      <td>NaN</td>\n      <td>NaN</td>\n      <td>223857</td>\n      <td>79640</td>\n      <td>263182</td>\n      <td>14450</td>\n      <td>NaN</td>\n      <td>NaN</td>\n      <td>17</td>\n    </tr>\n    <tr>\n      <th>mean</th>\n      <td>NaN</td>\n      <td>NaN</td>\n      <td>NaN</td>\n      <td>NaN</td>\n      <td>1.729514e+04</td>\n      <td>NaN</td>\n      <td>NaN</td>\n      <td>2004.577997</td>\n      <td>NaN</td>\n      <td>115.549477</td>\n      <td>NaN</td>\n      <td>125618.688228</td>\n      <td>5.734445</td>\n      <td>NaN</td>\n      <td>NaN</td>\n      <td>NaN</td>\n      <td>NaN</td>\n      <td>0.0</td>\n      <td>50820.66764</td>\n      <td>NaN</td>\n    </tr>\n    <tr>\n      <th>std</th>\n      <td>NaN</td>\n      <td>NaN</td>\n      <td>NaN</td>\n      <td>NaN</td>\n      <td>3.587954e+06</td>\n      <td>NaN</td>\n      <td>NaN</td>\n      <td>92.866598</td>\n      <td>NaN</td>\n      <td>192.139578</td>\n      <td>NaN</td>\n      <td>40112.337051</td>\n      <td>3.712412</td>\n      <td>NaN</td>\n      <td>NaN</td>\n      <td>NaN</td>\n      <td>NaN</td>\n      <td>0.0</td>\n      <td>25799.08247</td>\n      <td>NaN</td>\n    </tr>\n    <tr>\n      <th>min</th>\n      <td>NaN</td>\n      <td>NaN</td>\n      <td>NaN</td>\n      <td>NaN</td>\n      <td>0.000000e+00</td>\n      <td>NaN</td>\n      <td>NaN</td>\n      <td>1000.000000</td>\n      <td>NaN</td>\n      <td>0.000000</td>\n      <td>NaN</td>\n      <td>5000.000000</td>\n      <td>0.000000</td>\n      <td>NaN</td>\n      <td>NaN</td>\n      <td>NaN</td>\n      <td>NaN</td>\n      <td>0.0</td>\n      <td>1067.00000</td>\n      <td>NaN</td>\n    </tr>\n    <tr>\n      <th>25%</th>\n      <td>NaN</td>\n      <td>NaN</td>\n      <td>NaN</td>\n      <td>NaN</td>\n      <td>1.150000e+03</td>\n      <td>NaN</td>\n      <td>NaN</td>\n      <td>1999.000000</td>\n      <td>NaN</td>\n      <td>70.000000</td>\n      <td>NaN</td>\n      <td>125000.000000</td>\n      <td>3.000000</td>\n      <td>NaN</td>\n      <td>NaN</td>\n      <td>NaN</td>\n      <td>NaN</td>\n      <td>0.0</td>\n      <td>30459.00000</td>\n      <td>NaN</td>\n    </tr>\n    <tr>\n      <th>50%</th>\n      <td>NaN</td>\n      <td>NaN</td>\n      <td>NaN</td>\n      <td>NaN</td>\n      <td>2.950000e+03</td>\n      <td>NaN</td>\n      <td>NaN</td>\n      <td>2003.000000</td>\n      <td>NaN</td>\n      <td>105.000000</td>\n      <td>NaN</td>\n      <td>150000.000000</td>\n      <td>6.000000</td>\n      <td>NaN</td>\n      <td>NaN</td>\n      <td>NaN</td>\n      <td>NaN</td>\n      <td>0.0</td>\n      <td>49610.00000</td>\n      <td>NaN</td>\n    </tr>\n    <tr>\n      <th>75%</th>\n      <td>NaN</td>\n      <td>NaN</td>\n      <td>NaN</td>\n      <td>NaN</td>\n      <td>7.200000e+03</td>\n      <td>NaN</td>\n      <td>NaN</td>\n      <td>2008.000000</td>\n      <td>NaN</td>\n      <td>150.000000</td>\n      <td>NaN</td>\n      <td>150000.000000</td>\n      <td>9.000000</td>\n      <td>NaN</td>\n      <td>NaN</td>\n      <td>NaN</td>\n      <td>NaN</td>\n      <td>0.0</td>\n      <td>71546.00000</td>\n      <td>NaN</td>\n    </tr>\n    <tr>\n      <th>max</th>\n      <td>NaN</td>\n      <td>NaN</td>\n      <td>NaN</td>\n      <td>NaN</td>\n      <td>2.147484e+09</td>\n      <td>NaN</td>\n      <td>NaN</td>\n      <td>9999.000000</td>\n      <td>NaN</td>\n      <td>20000.000000</td>\n      <td>NaN</td>\n      <td>150000.000000</td>\n      <td>12.000000</td>\n      <td>NaN</td>\n      <td>NaN</td>\n      <td>NaN</td>\n      <td>NaN</td>\n      <td>0.0</td>\n      <td>99998.00000</td>\n      <td>NaN</td>\n    </tr>\n  </tbody>\n</table>\n</div>",
      "text/plain": "               date_crawled         name  seller offer_type         price  \\\ncount                371528       371528  371528     371528  3.715280e+05   \nunique               280500       233531       2          2           NaN   \ntop     2016-03-24 14:49:47  Ford_Fiesta  privat    Angebot           NaN   \nfreq                      7          657  371525     371516           NaN   \nmean                    NaN          NaN     NaN        NaN  1.729514e+04   \nstd                     NaN          NaN     NaN        NaN  3.587954e+06   \nmin                     NaN          NaN     NaN        NaN  0.000000e+00   \n25%                     NaN          NaN     NaN        NaN  1.150000e+03   \n50%                     NaN          NaN     NaN        NaN  2.950000e+03   \n75%                     NaN          NaN     NaN        NaN  7.200000e+03   \nmax                     NaN          NaN     NaN        NaN  2.147484e+09   \n\n        abtest vehicle_type  registration_year  gearbox       power_ps  \\\ncount   371528       333659      371528.000000   351319  371528.000000   \nunique       2            8                NaN        2            NaN   \ntop       test    limousine                NaN  manuell            NaN   \nfreq    192585        95894                NaN   274214            NaN   \nmean       NaN          NaN        2004.577997      NaN     115.549477   \nstd        NaN          NaN          92.866598      NaN     192.139578   \nmin        NaN          NaN        1000.000000      NaN       0.000000   \n25%        NaN          NaN        1999.000000      NaN      70.000000   \n50%        NaN          NaN        2003.000000      NaN     105.000000   \n75%        NaN          NaN        2008.000000      NaN     150.000000   \nmax        NaN          NaN        9999.000000      NaN   20000.000000   \n\n         model       odometer  registration_month fuel_type       brand  \\\ncount   351044  371528.000000       371528.000000    338142      371528   \nunique     251            NaN                 NaN         7          40   \ntop       golf            NaN                 NaN    benzin  volkswagen   \nfreq     30070            NaN                 NaN    223857       79640   \nmean       NaN  125618.688228            5.734445       NaN         NaN   \nstd        NaN   40112.337051            3.712412       NaN         NaN   \nmin        NaN    5000.000000            0.000000       NaN         NaN   \n25%        NaN  125000.000000            3.000000       NaN         NaN   \n50%        NaN  150000.000000            6.000000       NaN         NaN   \n75%        NaN  150000.000000            9.000000       NaN         NaN   \nmax        NaN  150000.000000           12.000000       NaN         NaN   \n\n       unrepaired_damage           ad_created  nr_of_pictures   postal_code  \\\ncount             299468               371528        371528.0  371528.00000   \nunique                 2                  114             NaN           NaN   \ntop                 nein  2016-04-03 00:00:00             NaN           NaN   \nfreq              263182                14450             NaN           NaN   \nmean                 NaN                  NaN             0.0   50820.66764   \nstd                  NaN                  NaN             0.0   25799.08247   \nmin                  NaN                  NaN             0.0    1067.00000   \n25%                  NaN                  NaN             0.0   30459.00000   \n50%                  NaN                  NaN             0.0   49610.00000   \n75%                  NaN                  NaN             0.0   71546.00000   \nmax                  NaN                  NaN             0.0   99998.00000   \n\n                  last_seen  \ncount                371528  \nunique               182806  \ntop     2016-04-06 13:45:54  \nfreq                     17  \nmean                    NaN  \nstd                     NaN  \nmin                     NaN  \n25%                     NaN  \n50%                     NaN  \n75%                     NaN  \nmax                     NaN  "
     },
     "execution_count": 5,
     "metadata": {},
     "output_type": "execute_result"
    }
   ],
   "source": [
    "autos.describe(include=\"all\")"
   ]
  },
  {
   "cell_type": "markdown",
   "metadata": {},
   "source": [
    "Our initial observations:\n",
    "- There are some text columns where all (or nearly all) of the values are the same:\n",
    "    - seller\n",
    "    - offer_type\n",
    "- The nr_of_pictures column looks odd, we'll need to investigate this further."
   ]
  },
  {
   "cell_type": "code",
   "execution_count": 6,
   "metadata": {},
   "outputs": [
    {
     "data": {
      "text/plain": "privat        371525\ngewerblich         3\nName: seller, dtype: int64"
     },
     "execution_count": 6,
     "metadata": {},
     "output_type": "execute_result"
    }
   ],
   "source": [
    "autos[\"seller\"].value_counts()"
   ]
  },
  {
   "cell_type": "code",
   "execution_count": 7,
   "metadata": {},
   "outputs": [
    {
     "data": {
      "text/plain": "0    371528\nName: nr_of_pictures, dtype: int64"
     },
     "execution_count": 7,
     "metadata": {},
     "output_type": "execute_result"
    }
   ],
   "source": [
    "autos[\"nr_of_pictures\"].value_counts()"
   ]
  },
  {
   "cell_type": "markdown",
   "metadata": {},
   "source": [
    "These columns don't give us any useful information for analysis and we can drop them."
   ]
  },
  {
   "cell_type": "code",
   "execution_count": 8,
   "metadata": {},
   "outputs": [],
   "source": [
    "autos = autos.drop([\"seller\", \"offer_type\", \"nr_of_pictures\"], axis=1)"
   ]
  },
  {
   "cell_type": "markdown",
   "metadata": {},
   "source": [
    "## Exploring Price and Odometer\n",
    "\n",
    "Let's continue exploring the data, specifically looking for data that doesn't look right. We'll start by analyzing the `odometer` and `price` columns:\n",
    "\n",
    "- We will analyze the columns using minimum and maximum values and look for any values that look unrealistically high or low (outliers) that we might want to remove."
   ]
  },
  {
   "cell_type": "code",
   "execution_count": 9,
   "metadata": {},
   "outputs": [
    {
     "name": "stdout",
     "output_type": "stream",
     "text": "Minimum price is: 0\nMaximum price is: 2147483647\n\nUnique values:\n [  480 18300  9800 ... 18429 24895 10985]\n\nDescription:\n count    3.715280e+05\nmean     1.729514e+04\nstd      3.587954e+06\nmin      0.000000e+00\n25%      1.150000e+03\n50%      2.950000e+03\n75%      7.200000e+03\nmax      2.147484e+09\nName: price, dtype: float64\n"
    }
   ],
   "source": [
    "print(\"Minimum price is:\",autos[\"price\"].min())\n",
    "print(\"Maximum price is:\", autos[\"price\"].max())\n",
    "\n",
    "print(\"\\nUnique values:\\n\", autos[\"price\"].unique())\n",
    "print(\"\\nDescription:\\n\", autos[\"price\"].describe())"
   ]
  },
  {
   "cell_type": "code",
   "execution_count": 10,
   "metadata": {},
   "outputs": [
    {
     "data": {
      "text/plain": "0       10778\n500      5670\n1500     5394\n1000     4649\n1200     4594\n2500     4438\n600      3819\n3500     3792\n800      3784\n2000     3432\nName: price, dtype: int64"
     },
     "execution_count": 10,
     "metadata": {},
     "output_type": "execute_result"
    }
   ],
   "source": [
    "# the most frequent prices\n",
    "autos[\"price\"].value_counts().head(10)"
   ]
  },
  {
   "cell_type": "code",
   "execution_count": 11,
   "metadata": {},
   "outputs": [
    {
     "data": {
      "text/plain": "2147483647     1\n99999999      15\n99000000       1\n74185296       1\n32545461       1\n27322222       1\n14000500       1\n12345678       9\n11111111      10\n10010011       1\n10000000       8\n9999999        3\n3895000        1\n3890000        1\n2995000        1\n2795000        1\n1600000        2\n1300000        1\n1250000        2\n1234566        1\n1111111        2\n1010010        1\n1000000        5\n999999        13\n999990         1\n911911         1\n849000         1\n820000         1\n780000         1\n745000         2\n              ..\n370000         2\n368000         1\n350000         4\n349000         1\n345000         1\n323223         1\n300000         1\n299000         3\n295000         1\n294900         1\n285000         1\n284000         1\n279000         1\n275000         1\n270000         1\n265000         1\n260000         3\n259000         1\n258000         1\n257500         1\n254900         1\n250000         4\n249000         1\n245000         1\n239000         1\n238000         1\n237500         1\n235000         1\n233000         1\n230000         3\nName: price, Length: 80, dtype: int64"
     },
     "execution_count": 11,
     "metadata": {},
     "output_type": "execute_result"
    }
   ],
   "source": [
    "# frequency of the highest prices\n",
    "autos[\"price\"].value_counts().sort_index (ascending = False).head(80)"
   ]
  },
  {
   "cell_type": "code",
   "execution_count": 12,
   "metadata": {},
   "outputs": [
    {
     "data": {
      "text/plain": "0     10778\n1      1189\n2        12\n3         8\n4         1\n5        26\n7         3\n8         9\n9         8\n10       84\nName: price, dtype: int64"
     },
     "execution_count": 12,
     "metadata": {},
     "output_type": "execute_result"
    }
   ],
   "source": [
    "# frequency of the lowest prices\n",
    "autos[\"price\"].value_counts().sort_index (ascending = True).head(10)"
   ]
  },
  {
   "cell_type": "markdown",
   "metadata": {},
   "source": [
    "As we see, `price` column has outliers: 10778 rows with a price 0 and some unrealisticaly high prices: 2147483647, 99999999, 99000000 etc. We will remove all rows containing outliers, such as prices:\n",
    "- lower than \\€100 \n",
    "- higher than \\€300 000 (as prices jump up unrealistically too high after 300 thousands)"
   ]
  },
  {
   "cell_type": "code",
   "execution_count": 13,
   "metadata": {},
   "outputs": [
    {
     "data": {
      "text/plain": "count    357053.000000\nmean       5949.746673\nstd        8749.477204\nmin         101.000000\n25%        1299.000000\n50%        3100.000000\n75%        7500.000000\nmax      299000.000000\nName: price, dtype: float64"
     },
     "execution_count": 13,
     "metadata": {},
     "output_type": "execute_result"
    }
   ],
   "source": [
    "autos = autos[(autos[\"price\"] > 100) & (autos[\"price\"] < 300000)]  \n",
    "autos[\"price\"].describe()"
   ]
  },
  {
   "cell_type": "code",
   "execution_count": 14,
   "metadata": {},
   "outputs": [
    {
     "name": "stdout",
     "output_type": "stream",
     "text": "In the column `odometer`:\nMinimum value is: 5000\nMaximum value: 150000\n\nUnique values:\n [150000 125000  90000  30000  70000   5000 100000  60000  20000  80000\n  50000  40000  10000]\n\nDescription:\n count    357053.000000\nmean     125806.084811\nstd       39572.798900\nmin        5000.000000\n25%      125000.000000\n50%      150000.000000\n75%      150000.000000\nmax      150000.000000\nName: odometer, dtype: float64\n\nValue counts:\n 150000    230767\n125000     37166\n100000     15332\n90000      12306\n80000      10860\n70000       9640\n60000       8575\n50000       7514\n40000       6309\n30000       5905\nName: odometer, dtype: int64\n"
    }
   ],
   "source": [
    "print(\"In the column `odometer`:\\nMinimum value is:\",autos[\"odometer\"].min())\n",
    "print(\"Maximum value:\", autos[\"odometer\"].max())\n",
    "\n",
    "print(\"\\nUnique values:\\n\", autos[\"odometer\"].unique())\n",
    "print(\"\\nDescription:\\n\", autos[\"odometer\"].describe())\n",
    "\n",
    "print(\"\\nValue counts:\\n\",autos[\"odometer\"].value_counts().head(10))"
   ]
  },
  {
   "cell_type": "markdown",
   "metadata": {},
   "source": [
    "We can see that the values in this field are rounded, which might indicate that sellers had to choose from pre-set options for this field. Additionally, there are too many cars (more than 50%) with 150 000 km, which probably means that it is the maximum value that can be chosen on the website and these cars have odometer with MORE than or equal to 150 000 km.\n",
    "\n",
    "## Explore Date Columns\n",
    "Let's now move on to the date columns and understand the date range the data covers.\n",
    "\n",
    "There are 5 columns that should represent date values. Some of these columns were created by the crawler, some came from the website itself:\n",
    "- `date_crawled`: added by the crawler\n",
    "- `last_seen`: added by the crawler\n",
    "- `ad_created`: from the website\n",
    "- `registration_month`: from the website\n",
    "- `registration_year`: from the website\n",
    "\n",
    "Right now, the `date_crawled`, `last_seen`, and `ad_created` columns are all identified as string values by pandas. Because these three columns are represented as strings, we need to convert the data into a numerical representation so we can understand it quantitatively. \n",
    "\n",
    "Let's first understand how the values in the three string columns are formatted:"
   ]
  },
  {
   "cell_type": "code",
   "execution_count": 15,
   "metadata": {},
   "outputs": [
    {
     "data": {
      "text/html": "<div>\n<style scoped>\n    .dataframe tbody tr th:only-of-type {\n        vertical-align: middle;\n    }\n\n    .dataframe tbody tr th {\n        vertical-align: top;\n    }\n\n    .dataframe thead th {\n        text-align: right;\n    }\n</style>\n<table border=\"1\" class=\"dataframe\">\n  <thead>\n    <tr style=\"text-align: right;\">\n      <th></th>\n      <th>date_crawled</th>\n      <th>ad_created</th>\n      <th>last_seen</th>\n    </tr>\n  </thead>\n  <tbody>\n    <tr>\n      <th>0</th>\n      <td>2016-03-24 11:52:17</td>\n      <td>2016-03-24 00:00:00</td>\n      <td>2016-04-07 03:16:57</td>\n    </tr>\n    <tr>\n      <th>1</th>\n      <td>2016-03-24 10:58:45</td>\n      <td>2016-03-24 00:00:00</td>\n      <td>2016-04-07 01:46:50</td>\n    </tr>\n    <tr>\n      <th>2</th>\n      <td>2016-03-14 12:52:21</td>\n      <td>2016-03-14 00:00:00</td>\n      <td>2016-04-05 12:47:46</td>\n    </tr>\n    <tr>\n      <th>3</th>\n      <td>2016-03-17 16:54:04</td>\n      <td>2016-03-17 00:00:00</td>\n      <td>2016-03-17 17:40:17</td>\n    </tr>\n    <tr>\n      <th>4</th>\n      <td>2016-03-31 17:25:20</td>\n      <td>2016-03-31 00:00:00</td>\n      <td>2016-04-06 10:17:21</td>\n    </tr>\n  </tbody>\n</table>\n</div>",
      "text/plain": "          date_crawled           ad_created            last_seen\n0  2016-03-24 11:52:17  2016-03-24 00:00:00  2016-04-07 03:16:57\n1  2016-03-24 10:58:45  2016-03-24 00:00:00  2016-04-07 01:46:50\n2  2016-03-14 12:52:21  2016-03-14 00:00:00  2016-04-05 12:47:46\n3  2016-03-17 16:54:04  2016-03-17 00:00:00  2016-03-17 17:40:17\n4  2016-03-31 17:25:20  2016-03-31 00:00:00  2016-04-06 10:17:21"
     },
     "execution_count": 15,
     "metadata": {},
     "output_type": "execute_result"
    }
   ],
   "source": [
    "autos[['date_crawled','ad_created','last_seen']][0:5]"
   ]
  },
  {
   "cell_type": "markdown",
   "metadata": {},
   "source": [
    "You could notice that the first 10 characters represent the day. To understand the date range, we can extract just the date values:"
   ]
  },
  {
   "cell_type": "code",
   "execution_count": 16,
   "metadata": {},
   "outputs": [
    {
     "data": {
      "text/plain": "2016-03-05    0.025576\n2016-03-06    0.014452\n2016-03-07    0.035597\n2016-03-08    0.033468\n2016-03-09    0.034118\n2016-03-10    0.032656\n2016-03-11    0.032737\n2016-03-12    0.036356\n2016-03-13    0.015824\n2016-03-14    0.036325\n2016-03-15    0.033390\n2016-03-16    0.030214\n2016-03-17    0.031654\n2016-03-18    0.013107\n2016-03-19    0.035241\n2016-03-20    0.036311\n2016-03-21    0.035631\n2016-03-22    0.032460\n2016-03-23    0.031964\n2016-03-24    0.029870\n2016-03-25    0.032765\n2016-03-26    0.032020\n2016-03-27    0.030231\n2016-03-28    0.035059\n2016-03-29    0.034101\n2016-03-30    0.033569\n2016-03-31    0.031875\n2016-04-01    0.034199\n2016-04-02    0.035160\n2016-04-03    0.038905\n2016-04-04    0.037678\n2016-04-05    0.012763\n2016-04-06    0.003120\n2016-04-07    0.001602\nName: day_crawled, dtype: float64"
     },
     "execution_count": 16,
     "metadata": {},
     "output_type": "execute_result"
    }
   ],
   "source": [
    "autos[\"day_crawled\"] = autos[\"date_crawled\"].str[:10]\n",
    "autos[\"day_ad_created\"] = autos[\"ad_created\"].str[:10]\n",
    "autos[\"day_last_seen\"] = autos[\"last_seen\"].str[:10]\n",
    "\n",
    "autos[\"day_crawled\"].value_counts(normalize = True, dropna = False).sort_index()"
   ]
  },
  {
   "cell_type": "markdown",
   "metadata": {},
   "source": [
    "Looks like the site was crawled daily over roughly a one month period in March and April 2016."
   ]
  },
  {
   "cell_type": "code",
   "execution_count": 17,
   "metadata": {},
   "outputs": [
    {
     "data": {
      "text/plain": "2014-03-10    0.000003\n2015-03-20    0.000003\n2015-06-11    0.000003\n2015-06-18    0.000003\n2015-08-07    0.000003\n2015-08-10    0.000003\n2015-09-04    0.000006\n2015-09-09    0.000003\n2015-10-14    0.000003\n2015-11-02    0.000003\n2015-11-08    0.000003\n2015-11-10    0.000003\n2015-11-12    0.000003\n2015-11-13    0.000003\n2015-11-17    0.000003\n2015-11-23    0.000006\n2015-11-24    0.000006\n2015-12-05    0.000008\n2015-12-06    0.000003\n2015-12-17    0.000003\n2015-12-27    0.000003\n2015-12-28    0.000003\n2015-12-30    0.000008\n2016-01-02    0.000011\n2016-01-03    0.000003\n2016-01-06    0.000003\n2016-01-07    0.000008\n2016-01-08    0.000003\n2016-01-10    0.000011\n2016-01-13    0.000008\n                ...   \n2016-03-09    0.034157\n2016-03-10    0.032539\n2016-03-11    0.032765\n2016-03-12    0.036194\n2016-03-13    0.017090\n2016-03-14    0.035266\n2016-03-15    0.033314\n2016-03-16    0.030438\n2016-03-17    0.031250\n2016-03-18    0.014012\n2016-03-19    0.034264\n2016-03-20    0.036404\n2016-03-21    0.035731\n2016-03-22    0.032158\n2016-03-23    0.031934\n2016-03-24    0.029903\n2016-03-25    0.032821\n2016-03-26    0.032138\n2016-03-27    0.030010\n2016-03-28    0.035129\n2016-03-29    0.034141\n2016-03-30    0.033429\n2016-03-31    0.031959\n2016-04-01    0.034034\n2016-04-02    0.035045\n2016-04-03    0.039098\n2016-04-04    0.037779\n2016-04-05    0.011595\n2016-04-06    0.003112\n2016-04-07    0.001538\nName: day_ad_created, Length: 114, dtype: float64"
     },
     "execution_count": 17,
     "metadata": {},
     "output_type": "execute_result"
    }
   ],
   "source": [
    "autos[\"day_ad_created\"].value_counts(normalize = True, dropna = False).sort_index(ascending = True)"
   ]
  },
  {
   "cell_type": "markdown",
   "metadata": {},
   "source": [
    "There is a larger variety of ad created dates. Most fall within 1-2 months of the listing date, but some of them are older."
   ]
  },
  {
   "cell_type": "code",
   "execution_count": 18,
   "metadata": {},
   "outputs": [
    {
     "data": {
      "text/plain": "2016-03-05    0.001266\n2016-03-06    0.004083\n2016-03-07    0.005181\n2016-03-08    0.007898\n2016-03-09    0.009786\n2016-03-10    0.011458\n2016-03-11    0.012959\n2016-03-12    0.023249\n2016-03-13    0.008425\n2016-03-14    0.012177\n2016-03-15    0.016258\n2016-03-16    0.016440\n2016-03-17    0.028752\n2016-03-18    0.006893\n2016-03-19    0.016337\n2016-03-20    0.019860\n2016-03-21    0.020014\n2016-03-22    0.020442\n2016-03-23    0.017981\n2016-03-24    0.019157\n2016-03-25    0.018961\n2016-03-26    0.015944\n2016-03-27    0.016642\n2016-03-28    0.022176\n2016-03-29    0.023257\n2016-03-30    0.023672\n2016-03-31    0.024249\n2016-04-01    0.023949\n2016-04-02    0.024949\n2016-04-03    0.025330\n2016-04-04    0.025489\n2016-04-05    0.127048\n2016-04-06    0.219169\n2016-04-07    0.130552\nName: day_last_seen, dtype: float64"
     },
     "execution_count": 18,
     "metadata": {},
     "output_type": "execute_result"
    }
   ],
   "source": [
    "autos[\"day_last_seen\"].value_counts(normalize = True, dropna = False).sort_index(ascending = True)"
   ]
  },
  {
   "cell_type": "markdown",
   "metadata": {},
   "source": [
    "The last three days contain a disproportionate amount of 'last seen' values. Given that these are 6-10x the values from the previous days, it's unlikely that there was a massive spike in sales, and more likely that these values are to do with the crawling period ending and don't indicate car sales."
   ]
  },
  {
   "cell_type": "code",
   "execution_count": 19,
   "metadata": {},
   "outputs": [
    {
     "data": {
      "text/plain": "count    357053.000000\nmean       2004.328932\nstd          73.237695\nmin        1000.000000\n25%        1999.000000\n50%        2004.000000\n75%        2008.000000\nmax        9999.000000\nName: registration_year, dtype: float64"
     },
     "execution_count": 19,
     "metadata": {},
     "output_type": "execute_result"
    }
   ],
   "source": [
    "autos[\"registration_year\"].describe()"
   ]
  },
  {
   "cell_type": "markdown",
   "metadata": {},
   "source": [
    "Looking at this column, we note some odd values. The minimum value is 1000, long before cars were invented and the maximum is 9999, many years into the future.\n",
    "\n",
    "Because a car can't be first registered after the listing was seen, any vehicle with a registration year above 2016 is definitely inaccurate. Determining the earliest valid year is more difficult. Realistically, it could be somewhere in the first few decades of the 1900s."
   ]
  },
  {
   "cell_type": "code",
   "execution_count": 20,
   "metadata": {},
   "outputs": [],
   "source": [
    "autos = autos[(autos[\"registration_year\"] > 1900) & (autos[\"registration_year\"] < 2017)]"
   ]
  },
  {
   "cell_type": "code",
   "execution_count": 21,
   "metadata": {},
   "outputs": [
    {
     "data": {
      "text/plain": "count    343197.00000\nmean       2002.94171\nstd           7.18039\nmin        1910.00000\n25%        1999.00000\n50%        2003.00000\n75%        2008.00000\nmax        2016.00000\nName: registration_year, dtype: float64"
     },
     "execution_count": 21,
     "metadata": {},
     "output_type": "execute_result"
    }
   ],
   "source": [
    "autos[\"registration_year\"].describe()"
   ]
  },
  {
   "cell_type": "code",
   "execution_count": 22,
   "metadata": {},
   "outputs": [
    {
     "data": {
      "text/plain": "2000    0.065691\n1999    0.063567\n2005    0.062769\n2006    0.058174\n2001    0.057227\n2003    0.056985\n2004    0.056618\n2002    0.054665\n2007    0.050886\n1998    0.049438\nName: registration_year, dtype: float64"
     },
     "execution_count": 22,
     "metadata": {},
     "output_type": "execute_result"
    }
   ],
   "source": [
    "autos[\"registration_year\"].value_counts(normalize=True).head(10)"
   ]
  },
  {
   "cell_type": "markdown",
   "metadata": {},
   "source": [
    "We see that most of the vehicles were first registered between 1998 and 2007."
   ]
  },
  {
   "cell_type": "markdown",
   "metadata": {},
   "source": [
    "## Exploring Price by Brand\n",
    "\n",
    "In order to explore `brand` column, we will use technique called `aggregation`:\n",
    "\n",
    "- Identify the unique values we want to aggregate by\n",
    "- Create an empty dictionary to store our aggregate data\n",
    "- Loop over the unique values, and for each:\n",
    "    - Subset the dataframe by the unique values\n",
    "    - Calculate the mean of whichever column we're interested in\n",
    "    - Assign the val/mean to the dict as k/v."
   ]
  },
  {
   "cell_type": "code",
   "execution_count": 23,
   "metadata": {},
   "outputs": [
    {
     "data": {
      "text/plain": "volkswagen        72690\nbmw               37823\nopel              36358\nmercedes_benz     33413\naudi              30873\nford              23485\nrenault           16227\npeugeot           10352\nfiat               8781\nseat               6402\nskoda              5423\nmazda              5287\nsmart              4946\ncitroen            4776\nnissan             4668\ntoyota             4472\nhyundai            3439\nmini               3245\nvolvo              3148\nsonstige_autos     3133\nmitsubishi         2825\nhonda              2593\nkia                2382\nsuzuki             2178\nalfa_romeo         2158\nporsche            2121\nchevrolet          1734\nchrysler           1321\ndacia               863\njeep                755\nland_rover          751\ndaihatsu            727\nsubaru              718\njaguar              594\nsaab                505\ndaewoo              493\ntrabant             461\nlancia              440\nrover               431\nlada                206\nName: brand, dtype: int64"
     },
     "execution_count": 23,
     "metadata": {},
     "output_type": "execute_result"
    }
   ],
   "source": [
    "autos[\"brand\"].value_counts()"
   ]
  },
  {
   "cell_type": "code",
   "execution_count": 24,
   "metadata": {},
   "outputs": [
    {
     "name": "stdout",
     "output_type": "stream",
     "text": "Index(['volkswagen', 'bmw', 'opel', 'mercedes_benz', 'audi', 'ford', 'renault',\n       'peugeot', 'fiat', 'seat', 'skoda', 'mazda', 'smart', 'citroen',\n       'nissan', 'toyota'],\n      dtype='object')\n"
    }
   ],
   "source": [
    "brand_counts = autos[\"brand\"].value_counts()\n",
    "top_brands = brand_counts[brand_counts > 4000].index\n",
    "print(top_brands)"
   ]
  },
  {
   "cell_type": "markdown",
   "metadata": {},
   "source": [
    "4 out of 5 top brands are German manufacturers. Volkswagen is a leader, with significant difference from the second brand BMW."
   ]
  },
  {
   "cell_type": "code",
   "execution_count": 25,
   "metadata": {},
   "outputs": [
    {
     "data": {
      "text/plain": "volkswagen       5451\nbmw              8508\nopel             3014\nmercedes_benz    8581\naudi             9125\nford             3759\nrenault          2473\npeugeot          3298\nfiat             2933\nseat             4588\nskoda            6548\nmazda            4111\nsmart            3648\ncitroen          3780\nnissan           4754\ntoyota           5352\ndtype: int64"
     },
     "execution_count": 25,
     "metadata": {},
     "output_type": "execute_result"
    }
   ],
   "source": [
    "brand_mean_prices = {}\n",
    "for brand in top_brands:\n",
    "    brand_only = autos[autos[\"brand\"] == brand]\n",
    "    mean_price = brand_only[\"price\"].mean()\n",
    "    brand_mean_prices[brand] = int(mean_price)\n",
    "    \n",
    "bmp_series = pd.Series(brand_mean_prices)\n",
    "bmp_series"
   ]
  },
  {
   "cell_type": "markdown",
   "metadata": {},
   "source": [
    "As we see, from our top 5 brands:\n",
    "\n",
    "- `Audi`,`Mercedes-Benz` and `BMW` are much more expensive brands. \n",
    "- `Opel` is the cheapest one out of 5\n",
    "- `Volkswagen` is in between, that might explain its popularity.\n",
    "\n",
    "## Exploring Mileage"
   ]
  },
  {
   "cell_type": "code",
   "execution_count": 26,
   "metadata": {},
   "outputs": [
    {
     "data": {
      "text/html": "<div>\n<style scoped>\n    .dataframe tbody tr th:only-of-type {\n        vertical-align: middle;\n    }\n\n    .dataframe tbody tr th {\n        vertical-align: top;\n    }\n\n    .dataframe thead th {\n        text-align: right;\n    }\n</style>\n<table border=\"1\" class=\"dataframe\">\n  <thead>\n    <tr style=\"text-align: right;\">\n      <th></th>\n      <th>mean_mileage</th>\n      <th>mean_price</th>\n    </tr>\n  </thead>\n  <tbody>\n    <tr>\n      <th>bmw</th>\n      <td>133009</td>\n      <td>8508</td>\n    </tr>\n    <tr>\n      <th>mercedes_benz</th>\n      <td>130739</td>\n      <td>8581</td>\n    </tr>\n    <tr>\n      <th>audi</th>\n      <td>129563</td>\n      <td>9125</td>\n    </tr>\n    <tr>\n      <th>opel</th>\n      <td>128769</td>\n      <td>3014</td>\n    </tr>\n    <tr>\n      <th>volkswagen</th>\n      <td>128499</td>\n      <td>5451</td>\n    </tr>\n    <tr>\n      <th>renault</th>\n      <td>127891</td>\n      <td>2473</td>\n    </tr>\n    <tr>\n      <th>mazda</th>\n      <td>125747</td>\n      <td>4111</td>\n    </tr>\n    <tr>\n      <th>peugeot</th>\n      <td>124433</td>\n      <td>3298</td>\n    </tr>\n    <tr>\n      <th>ford</th>\n      <td>123715</td>\n      <td>3759</td>\n    </tr>\n    <tr>\n      <th>seat</th>\n      <td>120508</td>\n      <td>4588</td>\n    </tr>\n    <tr>\n      <th>citroen</th>\n      <td>120294</td>\n      <td>3780</td>\n    </tr>\n    <tr>\n      <th>nissan</th>\n      <td>119408</td>\n      <td>4754</td>\n    </tr>\n    <tr>\n      <th>toyota</th>\n      <td>117278</td>\n      <td>5352</td>\n    </tr>\n    <tr>\n      <th>fiat</th>\n      <td>116597</td>\n      <td>2933</td>\n    </tr>\n    <tr>\n      <th>skoda</th>\n      <td>113593</td>\n      <td>6548</td>\n    </tr>\n    <tr>\n      <th>smart</th>\n      <td>99704</td>\n      <td>3648</td>\n    </tr>\n  </tbody>\n</table>\n</div>",
      "text/plain": "               mean_mileage  mean_price\nbmw                  133009        8508\nmercedes_benz        130739        8581\naudi                 129563        9125\nopel                 128769        3014\nvolkswagen           128499        5451\nrenault              127891        2473\nmazda                125747        4111\npeugeot              124433        3298\nford                 123715        3759\nseat                 120508        4588\ncitroen              120294        3780\nnissan               119408        4754\ntoyota               117278        5352\nfiat                 116597        2933\nskoda                113593        6548\nsmart                 99704        3648"
     },
     "execution_count": 26,
     "metadata": {},
     "output_type": "execute_result"
    }
   ],
   "source": [
    "brand_mean_mileage = {}\n",
    "\n",
    "for brand in top_brands:\n",
    "    brand_only = autos[autos[\"brand\"] == brand]\n",
    "    mean_mileage = brand_only[\"odometer\"].mean()\n",
    "    brand_mean_mileage[brand] = int(mean_mileage)\n",
    "    \n",
    "mean_mileage = pd.Series(brand_mean_mileage).sort_values(ascending=False)\n",
    "mean_prices = pd.Series(brand_mean_prices).sort_values(ascending=False)\n",
    "\n",
    "brand_info = pd.DataFrame(mean_mileage,columns=['mean_mileage'])\n",
    "brand_info[\"mean_price\"] = mean_prices\n",
    "brand_info"
   ]
  },
  {
   "cell_type": "markdown",
   "metadata": {},
   "source": [
    "There is not big difference in mean mileage of the top 5 brands, although  there is a slight trend to the more expensive vehicles having higher mileage, with the less expensive vehicles having lower mileage."
   ]
  },
  {
   "cell_type": "markdown",
   "metadata": {},
   "source": [
    "## Conclusions\n",
    "\n",
    "We cleaned and analysed a dataset of used cars from eBay Kleinanzeigen.\n",
    "We found out that most of the cars (more than 75%):\n",
    "- are high mileage cars (with odometer more than 125 thousand km)\n",
    "- cost less than 7500 euros\n",
    "- were first registered between 1998 and 2007\n",
    "\n",
    "And our brand exploration showed that:\n",
    "- German manufacturers represent four out of the top five brands, almost 50% of the overall listings.\n",
    "- Volkswagen is a leader, with significant difference from the second brand BMW.\n",
    "- Of the top 5 brands, there is a distinct price gap:\n",
    "    - Audi, BMW and Mercedes Benz are much more expensive\n",
    "    - Opel is the cheapest out of top 5\n",
    "    - Volkswagen is in between - this may explain its popularity.\n",
    "- The range of car mileages does not vary as much as the prices do by brand, although there is a slight trend to the more expensive vehicles having higher mileage, with the less expensive vehicles having lower mileage."
   ]
  }
 ],
 "metadata": {
  "kernelspec": {
   "display_name": "Python 3",
   "language": "python",
   "name": "python3"
  },
  "language_info": {
   "codemirror_mode": {
    "name": "ipython",
    "version": 3
   },
   "file_extension": ".py",
   "mimetype": "text/x-python",
   "name": "python",
   "nbconvert_exporter": "python",
   "pygments_lexer": "ipython3",
   "version": "3.7.6-final"
  }
 },
 "nbformat": 4,
 "nbformat_minor": 2
}